{
 "cells": [
  {
   "cell_type": "code",
   "execution_count": null,
   "id": "bcba5be5-dd7a-42be-9458-55a8cfd02430",
   "metadata": {},
   "outputs": [],
   "source": [
    "基于本地基础镜像构建新镜像"
   ]
  },
  {
   "cell_type": "code",
   "execution_count": null,
   "id": "f8cc28c3-fc88-4153-99e9-12781f7600c3",
   "metadata": {},
   "outputs": [],
   "source": [
    "1. Docker 构建镜像的工作流程：\n",
    "step1. 本地查找\n",
    "当执行 docker build 时，Docker 会首先在本地镜像仓库中查找 ubuntu:20.04\n",
    "step2. 自动下载（如果本地不存在）\n",
    "如果本地没有该镜像，Docker 会自动从 Docker Hub 拉取官方仓库的 ubuntu:20.04 镜像,如果dockerfile中定义了镜像网站，则会从镜像网站拉取\n",
    "step3. 构建继续\n",
    "无论镜像来自本地还是远程下载，后续构建过程都会正常进行\n",
    "*********************************************************************\n",
    "即：\n",
    "（1）无论基于本地还是下载的，都可以写 FROM，没有任何区别！\n",
    "（2）如果镜像是从网页上下载的，可以 docker load 一下，将镜像加载到本地仓库，"
   ]
  },
  {
   "cell_type": "code",
   "execution_count": null,
   "id": "6c9873e8-5659-4bb7-aecb-89924d270eb6",
   "metadata": {
    "jupyter": {
     "source_hidden": true
    }
   },
   "outputs": [],
   "source": [
    "1.5 本地镜像处理\n",
    "（1）必须使用 docker load 加载镜像\n",
    "从网页下载的镜像文件（通常是 .tar 格式），必须通过 docker load 命令加载到本地仓库。\n",
    "直接移动文件到 Docker 存储目录会导致镜像无法被正确识别。\n",
    "# 进入下载文件所在目录\n",
    "cd ~/Downloads\n",
    "# 加载镜像（假设文件名为 image.tar）\n",
    "docker load -i image.tar\n",
    "# 验证加载结果\n",
    "docker images\n",
    "（2）不能直接移动文件到仓库目录\n",
    "** Docker 的镜像存储结构复杂：镜像采用分层存储机制，每个层有独立的哈希标识，手动操作会破坏元数据关联。\n",
    "** 存储驱动依赖：Docker 使用 overlay2、aufs 等存储驱动管理文件系统，直接修改底层文件可能导致不可预知的错误。\n",
    "** 权限问题：Docker 目录需要严格的权限控制，手动操作可能引发权限冲突。\n",
    "（3）Docker 本地仓库目录位置\n",
    "/var/lib/docker\n",
    "包含以下关键子目录：image/:镜像元数据；overlay2/:分层存储的实际文件（如果使用overlay2驱动）；containers/:容器数据\n",
    "（4）重要警告\n",
    "禁止手动操作 /var/lib/docker：即使你知道目录结构，直接修改或添加文件可能导致：镜像损坏，Docker 服务崩溃，数据丢失\n",
    "如果确实需要迁移 Docker 数据，应使用以下方法：\n",
    "    # 停止 Docker 服务\n",
    "    sudo systemctl stop docker\n",
    "    # 备份整个 Docker 目录\n",
    "    sudo rsync -a /var/lib/docker /path/to/backup\n",
    "    # 恢复时同样通过文件复制+重启服务\n",
    "（5）镜像管理推荐方式\n",
    "操作        正确命令                       错误做法\n",
    "加载镜像    docker load -i file.tar       复制文件到 /var/lib/docker\n",
    "保存镜像    docker save -o file.tar       从 /var/lib/docker 直接打包\n",
    "删除镜像    docker rmi <镜像ID>            手动删除仓库目录中的文件\n",
    "（6）镜像存储原理（分层存储结构）：\n",
    "    /var/lib/docker/overlay2/\n",
    "    ├── l/          # 层符号链接\n",
    "    ├── <layer_id>  # 具体层目录\n",
    "    │   ├── diff    # 层内容\n",
    "    │   └── link    # 哈希标识\n",
    "    └── imagedb     # 镜像数据库\n",
    "每个镜像由多个只读层（layer）组成，这些层通过联合文件系统（如 overlay2）叠加为容器提供最终视图。\n",
    "（7）总结\n",
    "永远通过 docker load 加载外部镜像，使用 docker images 和 docker rmi 管理镜像；\n",
    "不要手动操作 /var/lib/docker 目录，不要尝试直接移动文件到 Docker 存储路径。"
   ]
  },
  {
   "cell_type": "code",
   "execution_count": null,
   "id": "96607416-7b71-4608-bd54-fdbba199bc4b",
   "metadata": {},
   "outputs": [],
   "source": [
    "2. 准备工作\n",
    "# 创建项目目录\n",
    "mkdir my_docker_project && cd my_docker_project\n",
    "# 准备代码文件\n",
    "将需要打包的代码（如 app 目录）和依赖文件（如 requirements.txt ）放入项目目录，创建dockerfile：\n",
    "my_docker_project/\n",
    "├── app/\n",
    "│   ├── main.py\n",
    "│   └── ...\n",
    "├── requirements.txt\n",
    "└── Dockerfile\n",
    "# 创建.dockerignore 文件（可选）避免将无关文件（如虚拟环境、日志）复制到镜像中：\n",
    ".git\n",
    "__pycache__\n",
    "*.log\n",
    "venv/"
   ]
  },
  {
   "cell_type": "code",
   "execution_count": null,
   "id": "d91b994e-118e-4bfd-ae36-23262a78e976",
   "metadata": {},
   "outputs": [],
   "source": [
    "3. 编写 Dockerfile\n",
    "# 使用官方 Ubuntu 20.04 镜像作为基础\n",
    "FROM ubuntu:20.04\n",
    "# 设置环境变量（避免交互式询问时卡住）\n",
    "ENV DEBIAN_FONTEND=noninteractive\n",
    "# 更新系统并安装基础工具\n",
    "RUN apt-get update && \\\n",
    "    apt-get install -y \\\n",
    "    python3 \\\n",
    "    python3-pip \\\n",
    "    && rm -rf /var/lib/apt/lists/*\n",
    "# 设置工作目录\n",
    "WORKDIR /app\n",
    "# 复制本地代码和依赖文件到镜像中\n",
    "COPY requirements.txt .\n",
    "COPY ./app ./app\n",
    "# 安装 Python 依赖库\n",
    "RUN pip3 install --no-cache-dir -r requirements.txt\n",
    "# 暴露端口（根据实际应用调整）\n",
    "EXPOSE 8000\n",
    "# 定义容器启动命令（示例为启动 Python 应用）\n",
    "CMD [\"python3\", \"./app/main.py\"]"
   ]
  },
  {
   "cell_type": "code",
   "execution_count": null,
   "id": "017d215d-5d78-489c-b759-2d8d24c7a7cc",
   "metadata": {},
   "outputs": [],
   "source": [
    "4. 构建镜像\n",
    "# 执行构建命令\n",
    "docker build -t my-custom-image:v1 . # -t 指定镜像名称和标签，. 表示使用当前目录的 Dockerfile\n",
    "# 查看构建结果\n",
    "docker images | grep my-custom-image\n",
    "(1) | 管道符\n",
    "作用：将前一个命令的输出结果传递给后一个命令作为输入\n",
    "docker images | grep myapp\n",
    "# | 将docker images输出的列表，传递给 grep myapp \n",
    "(2) grep \n",
    "作用：在文本中搜索匹配的字符串（grep myapp 表示搜索包含 myapp 的行）\n",
    "docker images | grep myapp\n",
    "# grep myapp 从 docker images 的输出中筛选出包含 myapp 的行（通常是镜像名或标签）。"
   ]
  },
  {
   "cell_type": "code",
   "execution_count": null,
   "id": "2de76e4e-c5a8-48a1-871e-7bc904cce9ae",
   "metadata": {},
   "outputs": [],
   "source": [
    "5. 验证镜像\n",
    "# 运行容器\n",
    "docker run -it --rm my-custom-image:v1 # --rm：容器退出后自动删除（测试时常用），如需后台运行：添加-d\n",
    "# 进入容器检查\n",
    "docker run -it --entrypoint /bin/bash my-custom-image:v1 \n",
    "# 验证文件是否复制成功：ls/app，检查依赖是否安装：pip3 list"
   ]
  },
  {
   "cell_type": "code",
   "execution_count": null,
   "id": "23b6c9bf-20a2-4f15-85ae-902ed228b62e",
   "metadata": {},
   "outputs": [],
   "source": [
    "6. 高级定制技巧\n",
    "（1）优化镜像层\n",
    "* 将高频变化的操作（如代码复制）放在 Dockerfile 末尾；\n",
    "* 合并 RUN 指令减少层数（如果报错时，可以拆分RUN指令用来调试，调试完成后还是建议合并RUN指令）\n",
    "RUN apt-get update && \\\n",
    "    apt-get install -y git curl && \\\n",
    "    apt-get clean\n",
    "（2）多阶段构建（适用于编译型语言，比如需要make的）\n",
    "# 第一阶段：构建环境\n",
    "FROM ubuntu:20.04 as builder\n",
    "RUN apt-get update && apt-get install -y build-essential\n",
    "COPY src /src\n",
    "RUN make /src\n",
    "- as builder 在 Dockerfile 中用于定义「多阶段构建」的构建阶段别名，具体作用如下：\n",
    "- 阶段标识：给当前构建阶段命名（此处为 builder）\n",
    "- 隔离环境：创建独立的构建环境，避免污染最终镜像\n",
    "- 资源优化：允许后续阶段仅复制必要的构建产物\n",
    "关键优势：减小镜像体积-最终镜像不包含编译工具链等临时依赖；提升安全性-生产环境镜像不包含开发调试工具；优化构建缓存-修改代码时无需重新安装基础依赖\n",
    "操作原理：第一阶段 (builder) 完成编译/构建操作；第二阶段使用基础镜像重新开始构建；通过 COPY --from=builder 仅复制需要的文件\n",
    "扩展用法1：as builder 可以有多个，用来定义多个构建阶段，FROM node:14 as frontend-builder，FROM golang:1.18 as backend-builder\n",
    "扩展用法2：动态选择阶段：通过 --target 参数指定构建阶段\n",
    "# 第二阶段：运行环境\n",
    "FROM ubuntu:20.04\n",
    "COPY --from=builder /src/output /app\n",
    "CMD [\"/app/myapp\"]\n",
    "（3）配置镜像元数据\n",
    "LABEL maintainer=\"yourname@example.com\"\n",
    "LABEL version=\"1.0\""
   ]
  },
  {
   "cell_type": "code",
   "execution_count": null,
   "id": "e5e69843-6374-4773-9e5b-a075d116de5e",
   "metadata": {},
   "outputs": [],
   "source": [
    "7. 更新镜像流程\n",
    "（1）修改代码或requirements.txt\n",
    "（2）重新构建镜像：docker build -t my-custom-image:v2 .\n",
    "8. 关键注意事项\n",
    "（1）镜像最小化原则：\n",
    "    删除不必要的缓存文件：apt-get install && rm -rf /var/lib/apt/lists/*\n",
    "    使用 .dockerignore 减少上下文大小\n",
    "（2）时区设置\n",
    "    RUN ln -sf /usr/share/zoneinfo/Asia/Shanghai /etc/localtime\n",
    "（3）依赖管理\n",
    "    固定版本号：pip install package==1.0.0\n",
    "    定期更新基础镜像安全补丁"
   ]
  }
 ],
 "metadata": {
  "kernelspec": {
   "display_name": "jupyter",
   "language": "python",
   "name": "jupyter"
  },
  "language_info": {
   "codemirror_mode": {
    "name": "ipython",
    "version": 3
   },
   "file_extension": ".py",
   "mimetype": "text/x-python",
   "name": "python",
   "nbconvert_exporter": "python",
   "pygments_lexer": "ipython3",
   "version": "3.9.21"
  }
 },
 "nbformat": 4,
 "nbformat_minor": 5
}
