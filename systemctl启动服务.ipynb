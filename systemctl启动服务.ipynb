{
 "cells": [
  {
   "cell_type": "code",
   "execution_count": null,
   "id": "6e37bd16-ff17-4f0c-9268-af81ea63ad55",
   "metadata": {},
   "outputs": [],
   "source": [
    "systemctl启动服务"
   ]
  },
  {
   "cell_type": "code",
   "execution_count": null,
   "id": "cd1a5934-8572-44f2-86ef-fbaa0656cb6a",
   "metadata": {},
   "outputs": [],
   "source": [
    "1.镜像下载\n",
    "[root@docker-server ~]# docker pull daocloud.io/library/centos:7"
   ]
  },
  {
   "cell_type": "code",
   "execution_count": null,
   "id": "29ad6579-2ec0-42ec-a9ba-b0c2109b522a",
   "metadata": {},
   "outputs": [],
   "source": [
    "2.systemed整合\n",
    "因为 systemd 要求 CAPSYSADMIN 权限，从而得到了读取到宿主机 cgroup 的能力，CentOS7 中已经用 fakesystemd 代替了 systemd 。\n",
    "但是使用systemd，可用参考下面的 Dockerfile。这个Dockerfile删除fakesystemd 并安装了 systemd。"
   ]
  },
  {
   "cell_type": "code",
   "execution_count": null,
   "id": "5facd77e-3719-4c18-91bd-ecf6d4350209",
   "metadata": {},
   "outputs": [],
   "source": [
    "[root@docker-server ~]# mkdir test\n",
    "[root@docker-server ~]# cd test/\n",
    "[root@docker-server test]# vim Dockerfile\n",
    "FROM daocloud.io/library/centos:7\n",
    "MAINTAINER \"soso\"  soso@qq.com\n",
    "ENV container docker\n",
    "RUN yum -y swap -- remove fakesystemd -- install systemd systemd-libs\n",
    "RUN yum -y update; yum clean all; \\\n",
    "(cd /lib/systemd/system/sysinit.target.wants/; for i in *; do [ $i == systemd-tmpfiles-setup.service ] || rm -f $i; done); \\\n",
    "rm -f /lib/systemd/system/multi-user.target.wants/*;\\\n",
    "rm -f /etc/systemd/system/*.wants/*;\\\n",
    "rm -f /lib/systemd/system/local-fs.target.wants/*; \\\n",
    "rm -f /lib/systemd/system/sockets.target.wants/*udev*; \\\n",
    "rm -f /lib/systemd/system/sockets.target.wants/*initctl*; \\\n",
    "rm -f /lib/systemd/system/basic.target.wants/*;\\\n",
    "rm -f /lib/systemd/system/anaconda.target.wants/*;\n",
    "VOLUME [ \"/sys/fs/cgroup\" ]   #指定逻辑卷\n",
    "CMD [\"/usr/sbin/init\"]     #代表的是把上面的服务拉起来"
   ]
  },
  {
   "cell_type": "code",
   "execution_count": null,
   "id": "304fbf06-3fd8-4fc4-8726-bf4078fc741a",
   "metadata": {},
   "outputs": [],
   "source": [
    "Cgroups（Control Groups）是Linux内核中用于对进程进行资源限制、优先级分配和审计的重要机制，宿主机的cgroup在docker中扮演着关键的角色：\n",
    "#资源限制\n",
    "-CPU限制：在宿主机上，cgroup可以为docker容器分配一定比例的CPU资源。例如，一个宿主机的CPU核心数为4，在docker中可以通过cgroup设置某个容器只能使用其中的两个核心或者一定比例的CPU时间。\n",
    "-内存限制：cgroup允许限制容器使用的最大内存。如果容器尝试使用的内存超出分配的配额，宿主机的cgroup会阻止容器分配更多的内存，防止因某个容器内存使用失控而导致宿主机或其他容器的内存不足问题。\n",
    "-磁盘I/O限制：可以对容器的磁盘读写速度和IOPS（每秒I/O操作数）进行限制。\n",
    "#资源隔离\n",
    "-隔离CPU和内存：cgroup能够使容器的进程组与宿主机及其他容器的进程组在CPU和内存使用上相互隔离。\n",
    "-隔离文件系统：虽然cgroup本身主要用于资源限制而不直接处理文件系统隔离，但它与Docker的文件系统隔离（如通过UnionFS或overlay2存储驱动程序实现的文件系统分层和隔离）共同作用，确保容器在文件系统层面的行为不会影响宿主机或其他容器。\n",
    "#资源审计：资源消耗统计，审计资源分配\n",
    "#分布式系统中资源的全局管理"
   ]
  },
  {
   "cell_type": "code",
   "execution_count": null,
   "id": "ab64f617-e01b-4d77-ba6e-4028ff5834ab",
   "metadata": {},
   "outputs": [],
   "source": [
    "为了使用上面那样包含systemd的容器，需要创建类似下面的dockerfile"
   ]
  },
  {
   "cell_type": "code",
   "execution_count": null,
   "id": "5e9c146f-fc45-4a88-91dc-fe5920ceb3d8",
   "metadata": {},
   "outputs": [],
   "source": [
    "[root@docker-server test]# mkdir http\n",
    "[root@docker-server test]# cd http/\n",
    "[root@docker-server http]# vim Dockerfile\n",
    "FROM local/c7-systemd\n",
    "RUN yum -y install httpd; yum clean all; systemctl enable httpd.service\n",
    "EXPOSE 80\n",
    "CMD [\"/usr/sbin/init\"]\n",
    "\n",
    "或者\n",
    "[root@docker-server http]# cat Dockerfile \n",
    "FROM local/c7-systemd\n",
    "RUN rm -rf /etc/yum.repos.d/*\n",
    "ADD Centos-7.repo /etc/yum.repos.d/\n",
    "RUN yum -y install httpd; yum clean all; systemctl enable httpd\n",
    "EXPOSE 80\n",
    "CMD [\"/usr/sbin/init\"]"
   ]
  },
  {
   "cell_type": "code",
   "execution_count": null,
   "id": "a1fde81f-7fc1-4529-890a-a44ffe581dbc",
   "metadata": {},
   "outputs": [],
   "source": [
    "#构建镜像\n",
    "docker build -t local/c7-systemd-httpd ."
   ]
  },
  {
   "cell_type": "code",
   "execution_count": null,
   "id": "4e6b820d-15a5-4d49-934b-be1d1a17dd52",
   "metadata": {},
   "outputs": [],
   "source": [
    "3.运行包含 systemd 的应用容器\n",
    "为了运行一个包含 systemd 的容器，需要使用--privileged选项， 并且挂载主机的 cgroups 文件夹。 \n",
    "下面是运行包含 systemd 的 httpd 容器的示例命令：\n",
    "[root@docker-server http]# docker run --privileged -tid -v /sys/fs/cgroup:/sys/fs/cgroup:ro -p 80:80 local/c7-systemd-httpd\n",
    "--privileged:授权提权。让容器内的root用户拥有真正root权限(有些权限是没有的)\n",
    "-ro代表的是只读\n",
    "-rw代表的是读写\n",
    "如果不加会运行在前台(没有用-d)，可以用ctrl+p+q放到后台去"
   ]
  },
  {
   "cell_type": "code",
   "execution_count": null,
   "id": "b2fd7a05-cc54-412e-bc7d-67184faf269b",
   "metadata": {},
   "outputs": [],
   "source": [
    "4.安装openssh-server的例子\n",
    "[root@docker-server http]# cd ..\n",
    "[root@docker-server test]# mkdir ssh\n",
    "[root@docker-server test]# cd ssh/\n",
    "[root@docker-server ssh]# vim Dockerfile\n",
    "FROM local/c7-systemd\n",
    "RUN yum -y install openssh-server; yum clean all; systemctl enable sshd.service\n",
    "RUN echo 123456 | passwd --stdin root\n",
    "EXPOSE 22\n",
    "CMD [\"/usr/sbin/init\"]\n",
    "[root@docker-server ssh]# docker build -t local/c7-systemd-sshd .\n",
    "[root@docker-server ssh]# docker run --privileged -tid -v /sys/fs/cgroup:/sys/fs/cgroup:ro -p 2222:22 local/c7-systemd-sshd\n",
    "[root@docker-server ssh]# ssh 192.168.246.141 -p 2222\n",
    "[root@ce1af52a6f6c ~]#"
   ]
  }
 ],
 "metadata": {
  "kernelspec": {
   "display_name": "jupyter",
   "language": "python",
   "name": "jupyter"
  },
  "language_info": {
   "codemirror_mode": {
    "name": "ipython",
    "version": 3
   },
   "file_extension": ".py",
   "mimetype": "text/x-python",
   "name": "python",
   "nbconvert_exporter": "python",
   "pygments_lexer": "ipython3",
   "version": "3.9.21"
  }
 },
 "nbformat": 4,
 "nbformat_minor": 5
}
