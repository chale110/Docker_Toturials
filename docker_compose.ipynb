{
 "cells": [
  {
   "cell_type": "code",
   "execution_count": null,
   "id": "f76ca271-0a56-4794-9d3f-43170bb6d27e",
   "metadata": {},
   "outputs": [],
   "source": [
    "1.docker-compose 文件结构"
   ]
  },
  {
   "cell_type": "code",
   "execution_count": null,
   "id": "c86c8e14-7fc4-451b-b597-b8c080a6f7f6",
   "metadata": {},
   "outputs": [],
   "source": [
    "文件名的结构是：docker-compose.yaml 或者 docker-compose.yml,不要写成docker_compose!"
   ]
  },
  {
   "cell_type": "code",
   "execution_count": null,
   "id": "9b69176f-90cf-4545-94b2-218bb0dd3fd2",
   "metadata": {},
   "outputs": [],
   "source": [
    "yaml文件结构：\n",
    "version: \"3\"\n",
    "services:\n",
    " \n",
    "  redis:\n",
    "    image: redis:alpine\n",
    "    ports:\n",
    "      - \"6379\"\n",
    "    networks:\n",
    "      - frontend\n",
    "    deploy:\n",
    "      replicas: 2\n",
    "      update_config:\n",
    "        parallelism: 2\n",
    "        delay: 10s\n",
    "      restart_policy:\n",
    "        condition: on-failure\n",
    " \n",
    "  db:\n",
    "    image: postgres:9.4\n",
    "    volumes:\n",
    "      - db-data:/var/lib/postgresql/data\n",
    "    networks:\n",
    "      - backend\n",
    "    deploy:\n",
    "      placement:\n",
    "        constraints: [node.role == manager]\n",
    " \n",
    "  vote:\n",
    "    image: dockersamples/examplevotingapp_vote:before\n",
    "    ports:\n",
    "      - 5000:80\n",
    "    networks:\n",
    "      - frontend\n",
    "    depends_on:\n",
    "      - redis\n",
    "    deploy:\n",
    "      replicas: 2\n",
    "      update_config:\n",
    "        parallelism: 2\n",
    "      restart_policy:\n",
    "        condition: on-failure\n",
    " \n",
    "  result:\n",
    "    image: dockersamples/examplevotingapp_result:before\n",
    "    ports:\n",
    "      - 5001:80\n",
    "    networks:\n",
    "      - backend\n",
    "    depends_on:\n",
    "      - db\n",
    "    deploy:\n",
    "      replicas: 1\n",
    "      update_config:\n",
    "        parallelism: 2\n",
    "        delay: 10s\n",
    "      restart_policy:\n",
    "        condition: on-failure\n",
    " \n",
    "  worker:\n",
    "    image: dockersamples/examplevotingapp_worker\n",
    "    networks:\n",
    "      - frontend\n",
    "      - backend\n",
    "    deploy:\n",
    "      mode: replicated\n",
    "      replicas: 1\n",
    "      labels: [APP=VOTING]\n",
    "      restart_policy:\n",
    "        condition: on-failure\n",
    "        delay: 10s\n",
    "        max_attempts: 3\n",
    "        window: 120s\n",
    "      placement:\n",
    "        constraints: [node.role == manager]\n",
    " \n",
    "  visualizer:\n",
    "    image: dockersamples/visualizer:stable\n",
    "    ports:\n",
    "      - \"8080:8080\"\n",
    "    stop_grace_period: 1m30s\n",
    "    volumes:\n",
    "      - \"/var/run/docker.sock:/var/run/docker.sock\"\n",
    "    deploy:\n",
    "      placement:\n",
    "        constraints: [node.role == manager]\n",
    " \n",
    "networks:\n",
    "  frontend:\n",
    "  backend:\n",
    " \n",
    "volumes:\n",
    "  db-data:"
   ]
  },
  {
   "cell_type": "markdown",
   "id": "0fba0050-0952-47fb-832e-311f75943b9f",
   "metadata": {},
   "source": [
    "2.docker-compose使用示例\n",
    "#通过docker-compose构建一个在docker中运行的基于python flask框架的web应用\n",
    "#确保安装了Docker Engine和Docker Compose，不需要安装Python或者Redis，二者由Docker image 提供。"
   ]
  },
  {
   "cell_type": "code",
   "execution_count": null,
   "id": "932d44bf-9780-488a-a9c8-58cc51913598",
   "metadata": {},
   "outputs": [],
   "source": [
    "step1 定义python应用\n",
    "#1. 创建工程目录\n",
    "mkdir compose_test\n",
    "cd compose_test\n",
    "mkdir src # 源码文件夹\n",
    "mkdir docker # docker配置文件夹\n",
    "#目录结构如下\n",
    "└── compose_test\n",
    "    ├── docker\n",
    "    │   └── docker-compose.yml\n",
    "    ├── Dockerfile\n",
    "    └── src\n",
    "        ├── app.py\n",
    "        └── requirements.txt\n",
    "\n",
    "#2.在compose_test/src/目录下创建 python flask 应用 compose_test/src/app.py文件\n",
    "from flask import Flask\n",
    "from redis import Redis\n",
    "app = Flask(__name__)\n",
    "redis = Redis(host='redis', port=6379)\n",
    " \n",
    "@app.route('/')\n",
    "def hello():\n",
    "    count = redis.incr('hits')\n",
    "    return 'Hello World! I have been seen {} times.\\n'.format(count)\n",
    " \n",
    "if __name__ == \"__main__\":\n",
    "    app.run(host=\"0.0.0.0\", debug=True)\n",
    "\n",
    "#3.创建python 依赖文件 compose_test/src/requirements.txt\n",
    "flask\n",
    "redis"
   ]
  },
  {
   "cell_type": "code",
   "execution_count": null,
   "id": "d5cc24bb-3246-4aae-921b-fb17b854cf61",
   "metadata": {},
   "outputs": [],
   "source": [
    "step2 创建容器的Dockerfile文件\n",
    "#一个文件一个Dockerfile文件，在compose_test/目录中创建Dockerfile文件\n",
    "FROM python:3.7\n",
    "COPY src/ /opt/src\n",
    "WORKDIR /opt/src\n",
    "RUN pip install -r requirements.txt\n",
    "CMD [\"python\",\"app.py\"]\n",
    "#Dockerfile文件信息：\n",
    "-从Python 3.7的镜像开始构建一个容器镜像。 \n",
    "-复制src（即compose_test/src）目录到容器中的/opt/src目录。 \n",
    "-将容器的工作目录设置为/opt/src（通过docker exec -it your_docker_container_id bash 进入容器后的默认目录）。 \n",
    "-安装Python依赖关系。\n",
    "-将容器的默认命令设置为python app.py。"
   ]
  },
  {
   "cell_type": "code",
   "execution_count": null,
   "id": "6031430d-90d9-4a3f-8f72-a622a9cb1c0d",
   "metadata": {},
   "outputs": [],
   "source": [
    "step3 定义docker-compose脚本\n",
    "#在compose_test/docker/目录下创建docker-compose.yml文件，并在里面定义服务，内容如下：\n",
    "version: '3'\n",
    "  services:\n",
    "    web:\n",
    "        build: ../\n",
    "        ports:\n",
    "          - \"5000:5000\"\n",
    "    redis:\n",
    "        image: redis:3.0.7\n",
    "这个compose文件定义了两个服务，即web和redis两个容器。\n",
    "web容器：使用当前 docker-compose.yml 文件所在目录的上级目录（compose_test/Dockerfile）中的Dockerfile构建镜像；定义端口映射，使用了Flash Web服务器的默认端口。\n",
    "redis容器：使用从DockerHub提取的官方redis镜像3.0.7版本。"
   ]
  },
  {
   "cell_type": "code",
   "execution_count": null,
   "id": "a7473e92-5ae4-4ffa-b8b9-987d0969c15f",
   "metadata": {},
   "outputs": [],
   "source": [
    "step4 使用Compose构建并运行应用程序\n",
    "# 在compose_test/docker/ 目录下执行 docker-compose.yml 文件\n",
    "docker-compose up # 如果需要后台运行，则 docker-compose up -d\n",
    "# 如果不使用默认的 docker-compose.yml 文件名\n",
    "docker-compose -f server.yml up -d\n",
    "# 因为是在主机运行，所以可以通过浏览器输入 https://127.0.0.1:5000/ 查看运行的应用程序\n",
    "参数解释：\n",
    "-f 是 --file 的缩写，用来制定要使用的compose配置文件，默认情况下，docker-compose会查找当前目录下的docker-compose.yml 文件，\n",
    "   如果要使用其他名称的配置文件，比如 service.yml 或者配置文件位于其他路径，则需要调用 -f 显式指定该配置文件。\n",
    "-up 是 docker-compose 的启动服务指令，-d 表示后台（detach）模式；\n",
    "其他常见缩写：-p 是 --project-name 的缩写，用来制定项目名称。"
   ]
  },
  {
   "cell_type": "code",
   "execution_count": null,
   "id": "1b6be969-b972-4836-9328-9201fa82c7f3",
   "metadata": {},
   "outputs": [],
   "source": [
    "step5 编辑 compose 文件以添加文件绑定挂载\n",
    "上面的代码是在构建Dockerfile时静态复制到容器中的，即通过Dockerfile文件中的COPY src /opt/src 命令实现物理主机中的源码复制到容器中，这样后续物理主机src目录中的代码更改不会反应到容器中。\n",
    "可以通过volumes关键字实现物理主机目录挂载到容器中的功能（删除Dockerfile中的COPY指令，即不需要在创建镜像时将代码打包进去，而是通过volums动态挂载，container和HOST共享数据卷）。\n",
    "version: '3'\n",
    "services:\n",
    "  web:\n",
    "    build: ../\n",
    "    ports:\n",
    "     - \"5000:5000\"\n",
    "    volumes:\n",
    "     - ../src:/opt/src\n",
    "  redis:\n",
    "    image: \"redis:3.0.7\"\n",
    "通过volumes（卷）将主机上的项目目录（compose_test/src）挂载到容器中的/opt/src目录，允许即时修改代码，而无需重新构建镜像。"
   ]
  },
  {
   "cell_type": "code",
   "execution_count": null,
   "id": "676bab54-8cde-4ae7-88bc-357579f10c20",
   "metadata": {},
   "outputs": [],
   "source": [
    "step6 重新构建和运行应用程序\n",
    "# 使用更新的compose文件构建应用程序，然后运行\n",
    "docker-compose up -d"
   ]
  },
  {
   "cell_type": "code",
   "execution_count": null,
   "id": "9b180922-f586-4dd3-adaf-3c0ed161523c",
   "metadata": {},
   "outputs": [],
   "source": [
    "3 compose 常用服务配置参考\n",
    "Compose文件是一个定义服务，网络和卷的YAML文件。 \n",
    "Compose文件的默认文件名为 docker-compose.yml 和 docker-compose.yaml.\n",
    "如果在 Dockerfile 中指定了的选项（比如 CMD，EXPOSE，VOLUME，ENV）都会在运行 docker-compose 时遵守，因此不需要在 docker-compose.yml 中再次指定。\n",
    "支持类似 Bash 的 ${VARIABLE} 语法在配置值中使用环境变量。"
   ]
  },
  {
   "cell_type": "code",
   "execution_count": 1,
   "id": "0aa918b2-dbd0-4570-9e0d-202595c8e3ab",
   "metadata": {},
   "outputs": [
    {
     "data": {
      "image/jpeg": "[encoded data removed]",
      "text/plain": [
       "<IPython.core.display.Image object>"
      ]
     },
     "execution_count": 1,
     "metadata": {
      "image/jpeg": {
       "height": 800,
       "width": 800
      }
     },
     "output_type": "execute_result"
    }
   ],
   "source": [
    "# ${VARIABLE}语法示例\n",
    "from IPython.display import Image\n",
    "Image(filename=\"dockerfile_variable.jpg\",width=800,height=800)"
   ]
  },
  {
   "cell_type": "code",
   "execution_count": null,
   "id": "37b15c2e-1318-47fe-a133-bc725cd1b0bb",
   "metadata": {},
   "outputs": [],
   "source": [
    "${VARIABLE}的其他用法\n",
    "# 端口\n",
    "version: '3.8'\n",
    "services:\n",
    "  web:\n",
    "    image: nginx\n",
    "    ports:\n",
    "      - \"${HOST_PORT:-8080}:80\"\n",
    "# 日志\n",
    "version: '3.8'\n",
    "services:\n",
    "  app:\n",
    "    image: myapp\n",
    "    environment:\n",
    "      LOG_LEVEL: \"info\"\n",
    "      LOG_FILE_PATH: \"${LOG_DIR}/application.log\""
   ]
  },
  {
   "cell_type": "code",
   "execution_count": null,
   "id": "b50afc64-ca55-472b-8076-2431e0320077",
   "metadata": {},
   "outputs": [],
   "source": [
    "（1）配置-build\n",
    "1）build可以指定包含构建上下文的路径：\n",
    "version: '2'\n",
    "services:\n",
    "    webapp:\n",
    "        build: ./dir\n",
    "2）或者作为一个对象，该对象具有上下文路径和指定的Dockerfile文件以及args参数值：\n",
    "version: '2'\n",
    "services:\n",
    "  webapp:\n",
    "    build:\n",
    "      context: ./dir\n",
    "      dockerfile: Dockerfile-alternate\n",
    "      args:\n",
    "        buildno: 1\n",
    "这意味着webapp服务将会通过./dir目录下的Dockerfile-alternate文件构建容器镜像。\n",
    "3）如果同时指定image和build，则compose会通过build指定的目录构建容器镜像，而构建的镜像名为image中指定的镜像名和标签。\n",
    "build ./dir\n",
    "image: webapp:tag\n",
    "即，由./dir构建名为webapp、标记为tag的镜像。"
   ]
  },
  {
   "cell_type": "code",
   "execution_count": null,
   "id": "49a169a0-6209-4e81-8288-a173b3b9eeec",
   "metadata": {},
   "outputs": [],
   "source": [
    "（2）配置-context\n",
    "context包含Dockerfile文件的目录路径，或者是git仓库的URL。\n",
    "当提供的值是相对路径时，表示相对于当前compose文件的位置。 该目录也是发送到Docker守护程序构建镜像的上下文。"
   ]
  },
  {
   "cell_type": "code",
   "execution_count": null,
   "id": "5df50cab-382e-42b1-85c3-fb292a7081be",
   "metadata": {},
   "outputs": [],
   "source": [
    "（3）配置-dockerfile\n",
    "备用Docker文件。Compose将使用备用文件来构建，此外需要指定构建路径。"
   ]
  },
  {
   "cell_type": "code",
   "execution_count": null,
   "id": "8df387c6-bed8-49ad-9fa4-29ecefe19909",
   "metadata": {},
   "outputs": [],
   "source": [
    "（4）配置-args\n",
    "args 用来添加构建镜像的参数，环境变量只能在构建过程中访问。\n",
    "#首先在Dockerfile中指定要使用的参数\n",
    "ARG buildno\n",
    "ARG password\n",
    " \n",
    "RUN echo \"Build number: $buildno\"\n",
    "RUN script-requiring-password.sh \"$password\"\n",
    "#在args键下指定参数，传递映射（数组）或者列表\n",
    "build:\n",
    "  context: .\n",
    "  args:\n",
    "    buildno: 1\n",
    "    password: secret\n",
    " \n",
    "build:\n",
    "  context: .\n",
    "  args:\n",
    "    - buildno=1\n",
    "    - password=secret\n",
    "** 注意：YAML布尔值（true，false，yes，no，on，off）必须用引号括起来，以便解析器将它们解释为字符串"
   ]
  },
  {
   "cell_type": "code",
   "execution_count": null,
   "id": "c7d9cdab-040b-4f9b-976a-495e563ed1eb",
   "metadata": {},
   "outputs": [],
   "source": [
    "（5）配置-image\n",
    "用来指定启动容器的镜像，可以是镜像仓库/标签或者镜像id（或者id的前一部分）\n",
    "image: redis\n",
    "image: ubuntu:14.04\n",
    "image: tutum/influxdb\n",
    "image: example-registry.com:4000/postgresql\n",
    "image: a4bc65fd\n",
    "如果镜像不存在，Compose将尝试从官方镜像仓库pull下来，如果进一步指定了build，那么Compose将使用指定的build选项来构建，并使用image指定的名字和标记。"
   ]
  },
  {
   "cell_type": "code",
   "execution_count": null,
   "id": "08602c7c-2a2b-4429-b9e4-48710ae101a6",
   "metadata": {},
   "outputs": [],
   "source": [
    "（6）配置-container_name\n",
    "指定一个自定义容器名称，而不是生成的默认名称。\n",
    "container_name: my-web-container\n",
    "**注意，由于Docker容器名称必须是唯一的，因此如果指定了自定义名称，则无法将服务扩展到多个容器。"
   ]
  },
  {
   "cell_type": "code",
   "execution_count": null,
   "id": "2945442b-21de-4f17-bf79-91549582f144",
   "metadata": {},
   "outputs": [],
   "source": [
    "（7）配置-volumes\n",
    "卷挂载路径设置。可以设置宿主机路径 （HOST:CONTAINER） 或加上访问模式 （HOST:CONTAINER:ro）,挂载数据卷的默认权限是读写（rw），可以通过ro指定为只读。\n",
    "可以在主机上挂载相对路径，该路径将相对于当前正在使用的Compose配置文件的目录进行扩展。 \n",
    "相对路径应始终以 \".\" 或者 \"..\" 开始。\n",
    "volumes:\n",
    "  # 只需指定一个路径，让引擎创建一个卷\n",
    "  - /var/lib/mysql\n",
    "  # 指定绝对路径映射\n",
    "  - /opt/data:/var/lib/mysql \n",
    "  # 相对于当前compose文件的相对路径\n",
    "  - ./cache:/tmp/cache \n",
    "  # 用户家目录相对路径\n",
    "  - ~/configs:/etc/configs/:ro \n",
    "  # 命名卷\n",
    "  - datavolume:/var/lib/mysql\n",
    "如果要跨多个服务并重用挂载卷，最好在顶级volumes关键字中命名挂载卷。但是要注意，通过顶级volumes定义一个挂载卷，并从每个服务的卷列表中引用它， 这会替换早期版本的Compose文件格式中volumes_from。\n",
    "version: \"3\" \n",
    "services:\n",
    "  db:\n",
    "    image: db\n",
    "    volumes:\n",
    "      - data-volume:/var/lib/db\n",
    "  backup:\n",
    "    image: backup-service\n",
    "    volumes:\n",
    "      - data-volume:/var/lib/backup/data \n",
    "volumes:\n",
    "  data-volume:"
   ]
  },
  {
   "cell_type": "code",
   "execution_count": null,
   "id": "897a46b4-47a5-4823-ae6a-0e5c9dc25650",
   "metadata": {},
   "outputs": [],
   "source": [
    "（8）配置-command\n",
    "覆盖容器启动后默认的执行的命令。\n",
    "    command: bundle exec thin -p 3000\n",
    "该命令可以是一个类似于 dockerfile 的列表：\n",
    "    commands: [\"bundle\", \"exec\", \"thin\", \"-p\", \"3000\"]"
   ]
  },
  {
   "cell_type": "code",
   "execution_count": null,
   "id": "c638643f-d99e-4dff-9423-7369cbb5056f",
   "metadata": {},
   "outputs": [],
   "source": [
    " (9) 配置-links\n",
    "用来链接到另一个服务中的容器。需要指定服务名称和链接别名（SERVICES：ALIAS），或者仅指定服务名称。\n",
    "web:\n",
    "  links:\n",
    "   - db\n",
    "   - db:database\n",
    "   - redis\n",
    "在当前的web服务的容器中可以通过链接的db服务的别名database访问db容器中的数据库应用，如果没有指定别名，则可直接使用服务名访问。\n",
    "链接不需要启用服务进行通信 - 默认情况下，任何服务都可以以该服务的名称到达任何其他服务。 （实际是通过设置/etc/hosts的域名解析，从而实现容器间的通信。故可以像在应用中使用localhost一样使用服务的别名链接其他容器的服务，前提是多个服务容器在一个网络中可路由联通）\n",
    "links也可以起到和depends_on相似的功能，即定义服务之间的依赖关系，从而确定服务启动的顺序。"
   ]
  },
  {
   "cell_type": "code",
   "execution_count": null,
   "id": "3d3fef09-e638-4787-b069-68e971f8f535",
   "metadata": {},
   "outputs": [],
   "source": [
    "（10）配置-external_links\n",
    "链接到docker-compose.yml 外部的容器，甚至并非 Compose 管理的容器。参数格式跟 links 类似。\n",
    "external_links:\n",
    " - redis_1\n",
    " - project_db_1:mysql\n",
    " - project_db_1:postgresql"
   ]
  },
  {
   "cell_type": "code",
   "execution_count": null,
   "id": "8be37b2a-6a56-429b-a071-7b8ad58c99ec",
   "metadata": {},
   "outputs": [],
   "source": [
    "（11）配置-expose\n",
    "暴露端口，但与port不同，expose不映射到宿主机，只被连接的服务访问。\n",
    "因此仅可以指定内部端口为参数：\n",
    "expose:\n",
    "    - \"3000\"\n",
    "    - \"8000\""
   ]
  },
  {
   "cell_type": "code",
   "execution_count": null,
   "id": "ba23c44e-4198-4d6b-9cdb-9962f98a5b4e",
   "metadata": {},
   "outputs": [],
   "source": [
    " (12) 配置-ports\n",
    "暴露端口。格式：使用宿主：容器（HOST：CONTAINER）；或者仅仅指定容器的端口（宿主将会随机选择端口）都可以。\n",
    "** 注意：当使用 HOST:CONTAINER 格式来映射端口时，如果使用的容器端口小于 60 可能会得到错误得结果，因为 YAML 将会解析 xx:yy 这种数字格式为 60 进制。所以建议采用字符串格式。\n",
    "1）简单的短格式\n",
    "ports:\n",
    " - \"3000\"\n",
    " - \"3000-3005\"\n",
    " - \"8000:8000\"\n",
    " - \"9090-9091:8080-8081\"\n",
    " - \"49100:22\"\n",
    " - \"127.0.0.1:8001:8001\"\n",
    " - \"127.0.0.1:5000-5010:5000-5010\"\n",
    " - \"6060:6060/udp\"\n",
    "2）长格式语法允许配置短格式无法表示的附加字段\n",
    "ports:\n",
    "  - target: 80\n",
    "    published: 8080\n",
    "    protocol: tcp\n",
    "    mode: host\n",
    "-target: 容器内的端口\n",
    "-published: 物理主机的端口\n",
    "-protocol: 端口协议（tcp或udp）\n",
    "-mode: host 和 ingress 两种模式，host用于在每个节点上发布主机端口，ingress用于被负载平衡的swarm模式端口。"
   ]
  },
  {
   "cell_type": "code",
   "execution_count": null,
   "id": "154af347-3189-4d3d-8f87-da0b58f8114c",
   "metadata": {},
   "outputs": [],
   "source": [
    "（13）配置-restart\n",
    "重启策略默认为\"no\"，在任何情况下都不会重启容器。 \n",
    "指定为always时，容器总是重新启动。 \n",
    "如果退出代码指示出现故障错误，则on-failure将重新启动容器。\n",
    "restart: \"no\"\n",
    "restart: always\n",
    "restart: on-failure\n",
    "restart: unless-stopped"
   ]
  },
  {
   "cell_type": "code",
   "execution_count": null,
   "id": "534605eb-c79e-45bf-bd7a-53b13e354237",
   "metadata": {},
   "outputs": [],
   "source": [
    "（14）配置-environment\n",
    "用来添加环境变量。\n",
    "可以使用数组或者字典两种形式。任何布尔值; true，false，yes，no需要用引号括起来，以确保它们不被YML解析器转换为True或False。\n",
    "只给定名称的变量会自动获取它在 Compose 主机上的值，可以用来防止泄露不必要的数据。\n",
    "environment:\n",
    "  RACK_ENV: development\n",
    "  SHOW: 'true'\n",
    "  SESSION_SECRET:\n",
    " \n",
    "environment:\n",
    "  - RACK_ENV=development\n",
    "  - SHOW=true\n",
    "  - SESSION_SECRET\n",
    "** 注意：如果服务指定了build选项，那么在构建过程中通过environment定义的环境变量将不会起作用。 将使用build的args子选项来定义构建时的环境变量。"
   ]
  },
  {
   "cell_type": "code",
   "execution_count": null,
   "id": "69c3824a-8c35-40ec-a35f-3fc6b825ed8b",
   "metadata": {},
   "outputs": [],
   "source": [
    "（15）配置-pid\n",
    "将PID模式设置为主机PID模式。 \n",
    "这就打开了容器与主机操作系统之间的共享PID地址空间。 \n",
    "使用此标志启动的容器将能够访问和操作裸机的命名空间中的其他容器，反之亦然。即打开该选项的容器可以相互通过进程 ID 来访问和操作。\n",
    "    pid: \"host\""
   ]
  },
  {
   "cell_type": "code",
   "execution_count": null,
   "id": "93974b80-5bf9-4155-a7c8-39e31953a21d",
   "metadata": {},
   "outputs": [],
   "source": [
    "(16) 配置-dns\n",
    "配置 DNS 服务器。可以是一个值，也可以是一个列表。\n",
    "dns: 8.8.8.8\n",
    "dns:\n",
    "  - 8.8.8.8\n",
    "  - 9.9.9.9"
   ]
  }
 ],
 "metadata": {
  "kernelspec": {
   "display_name": "jupyter",
   "language": "python",
   "name": "jupyter"
  },
  "language_info": {
   "codemirror_mode": {
    "name": "ipython",
    "version": 3
   },
   "file_extension": ".py",
   "mimetype": "text/x-python",
   "name": "python",
   "nbconvert_exporter": "python",
   "pygments_lexer": "ipython3",
   "version": "3.9.21"
  }
 },
 "nbformat": 4,
 "nbformat_minor": 5
}
