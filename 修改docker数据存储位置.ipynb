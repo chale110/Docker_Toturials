{
 "cells": [
  {
   "cell_type": "code",
   "execution_count": null,
   "id": "97a7ca31-078a-4ead-a04e-0454e60f0d44",
   "metadata": {},
   "outputs": [],
   "source": [
    "修改 Docker 数据存储位置"
   ]
  },
  {
   "cell_type": "code",
   "execution_count": null,
   "id": "95be994e-c67d-4115-a762-04ffef533d1a",
   "metadata": {},
   "outputs": [],
   "source": [
    "#查看存储路径\n",
    "docker info|grep Root"
   ]
  },
  {
   "cell_type": "code",
   "execution_count": null,
   "id": "d12848cc-f8e1-4972-a764-c039619ad1ad",
   "metadata": {},
   "outputs": [],
   "source": [
    "#修改默认存储位置\n",
    "#在ExecStart的启动命令后，追加 --data-root 参数指定新的位置\n",
    "vim /usr/lib/systemd/system/docker.service\n",
    "ExecStart=/usr/bin/dockerd -H fd:// --containerd=/run/containerd/containerd.sock --data-root=/data"
   ]
  },
  {
   "cell_type": "code",
   "execution_count": null,
   "id": "53198d9d-7ce2-4bca-9b4d-556f9f54f64a",
   "metadata": {},
   "outputs": [],
   "source": [
    "#重启docker\n",
    "systemctl daemon-reload \n",
    "systemctl restart docker"
   ]
  },
  {
   "cell_type": "code",
   "execution_count": null,
   "id": "08d6f5a8-e91b-494a-b93e-cdfe48e308e5",
   "metadata": {},
   "outputs": [],
   "source": [
    "#查看是否生效\n",
    "[root@docker-server ~]# docker info | grep Root\n",
    " Docker Root Dir: /data"
   ]
  },
  {
   "cell_type": "code",
   "execution_count": null,
   "id": "23a0e6cb-67f7-4dc8-9951-2d96ca7d7596",
   "metadata": {},
   "outputs": [],
   "source": [
    "[root@docker-server ~]# cd /data/\n",
    "[root@docker-server data]# ls\n",
    "builder  buildkit  containers  image  network  overlay2  plugins  runtimes  swarm  tmp  trust  volumes"
   ]
  }
 ],
 "metadata": {
  "kernelspec": {
   "display_name": "jupyter",
   "language": "python",
   "name": "jupyter"
  },
  "language_info": {
   "codemirror_mode": {
    "name": "ipython",
    "version": 3
   },
   "file_extension": ".py",
   "mimetype": "text/x-python",
   "name": "python",
   "nbconvert_exporter": "python",
   "pygments_lexer": "ipython3",
   "version": "3.9.21"
  }
 },
 "nbformat": 4,
 "nbformat_minor": 5
}
