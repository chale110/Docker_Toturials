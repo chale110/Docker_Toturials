{
 "cells": [
  {
   "cell_type": "code",
   "execution_count": null,
   "id": "bdd24b53-8b01-4be9-8b3a-9a02dd814409",
   "metadata": {},
   "outputs": [],
   "source": [
    "一 使用 docker 运行软件"
   ]
  },
  {
   "cell_type": "code",
   "execution_count": null,
   "id": "ad4245dd-79f3-43d7-8398-e48d213d9487",
   "metadata": {},
   "outputs": [],
   "source": [
    "# 运行数据库 redis\n",
    "docker run -d -p 6379:6379 --name redis redis:latest"
   ]
  },
  {
   "cell_type": "code",
   "execution_count": null,
   "id": "4abe58c4-e180-4b2b-91c1-17f163b1a9c5",
   "metadata": {},
   "outputs": [],
   "source": [
    "# 参数含义\n",
    "-d 表示 detach 或者 daemon，即后台运行；不加 -d 会阻断，并在终端直接运行\n",
    "-p 表示 port 端口映射，即主机端口 6379 映射到容器端口 6379\n",
    "--name 表示容器（container）的名字，可以自定义为 123\n",
    "redis：latest 表示 镜像（imagine）名和对应的 tag（版本号）"
   ]
  },
  {
   "cell_type": "code",
   "execution_count": null,
   "id": "ba8be54c-30a2-4ff3-b826-c170022cccb9",
   "metadata": {},
   "outputs": [],
   "source": [
    "二 使用 docker 打包自己的镜像"
   ]
  },
  {
   "cell_type": "code",
   "execution_count": null,
   "id": "8fe4c447-afdc-445c-9ef5-b21560385db0",
   "metadata": {},
   "outputs": [],
   "source": [
    "step1 创建 dockerfile\n",
    "\n",
    "在项目的根目录下，创建并编辑 dockerfile\n",
    "touch Dockerfile\n",
    "vim Dockerfile"
   ]
  },
  {
   "cell_type": "code",
   "execution_count": null,
   "id": "ebc073fe-f24d-4be7-abae-7c5c4b420dbf",
   "metadata": {},
   "outputs": [],
   "source": [
    "dockerfile 的语法结构\n",
    "# 直径基础环境，比如 python\n",
    "FROM python：3.9.21\n",
    "\n",
    "# MAINTAINER XXX（项目维护人）\n",
    "\n",
    "# 设置工作目录（软件包的根目录）\n",
    "WORKDIR /app\n",
    "\n",
    "# 复制项目文件到容器中\n",
    "COPY ./app\n",
    "\n",
    "# 设置清华源并安装依赖包\n",
    "# RUN命令可以有多个，但是可以用 && 连接多个命令来减少层级\n",
    "# 例如 RUN npm install && cd /app && mkdir logs\n",
    "RUN pip install --no-cache-dir --index-url https://pypi.tuna.tsinghua.edu.cn/simple -r requirements.txt\n",
    "\n",
    "# 设置环境变量（可选）\n",
    "ENV DB_HOST=db_host \\\n",
    "    DB_PORT=3306 \\\n",
    "    DB_DATABASE=mydatabase \\ \n",
    "    DB_USER=myuser \\\n",
    "    DB_PASSWORD=mypassword\n",
    "\n",
    "# 暴露端口（可选）\n",
    "EXPOSE ${SERVER_PORT}\n",
    "\n",
    "# 启用应用文件\n",
    "# CMD 指令只能一个，是容器启动后执行的命令，算是程序入口\n",
    "# 如果还需要执行其他命令可以使用&&连接，也可以写成一个shell脚本\n",
    "# 例如 CMD cd/app && ./start.sh\n",
    "CMD [\"python\", \"test.py\"]"
   ]
  },
  {
   "cell_type": "code",
   "execution_count": null,
   "id": "bf63fcd9-caf0-405d-9de9-f896e6771681",
   "metadata": {},
   "outputs": [],
   "source": [
    "step2 创建 requierments.txt 文件"
   ]
  },
  {
   "cell_type": "code",
   "execution_count": null,
   "id": "4b87793d-ac1d-488f-b016-92338d384edc",
   "metadata": {},
   "outputs": [],
   "source": [
    "在项目的根目录下创建名为requirements.txt 文件，列出所有必要的 python 依赖包。\n",
    "pycharm可以自动生成依赖。\n",
    "方法一：项目根目录下，在终端直接输入）\n",
    "pip freeze > requirements.txt\n",
    "方法二：通过 pipreqs 生成\n",
    "# 安装 pipreqs\n",
    "pip install pipreqs\n",
    "# 在根目录下创建\n",
    "pipreqs ./"
   ]
  },
  {
   "cell_type": "code",
   "execution_count": null,
   "id": "88877995-601a-42f5-94a9-ae5486513239",
   "metadata": {},
   "outputs": [],
   "source": [
    "两种方法都可以创建 requirements.txt 但存在明显区别：\n",
    "方法一创建的包含所有 packages 安装包，更细粒度；方法二创建的主要是pip 安装过的安装包\n",
    "建议首先使用方法二，不行的话再使用方法一\n",
    "使用方法二创建的 requirements.txt 如下所是：\n",
    "datasets==3.1.0\n",
    "matplotlib==3.7.5\n",
    "numpy==1.24.3\n",
    "numpy==1.24.4\n",
    "Pillow==11.1.0\n",
    "torch==2.4.0\n",
    "torchvision==0.19.0\n",
    "tqdm==4.67.1\n",
    "transformers==4.49.0\n",
    "wandb==0.19.7"
   ]
  },
  {
   "cell_type": "code",
   "execution_count": null,
   "id": "e5ba88c4-f536-4705-b88c-e0e7dcfd38f5",
   "metadata": {},
   "outputs": [],
   "source": [
    "step3 创建环境变量"
   ]
  },
  {
   "cell_type": "code",
   "execution_count": null,
   "id": "74d704ac-a024-4184-9402-2725609a41ee",
   "metadata": {},
   "outputs": [],
   "source": [
    "# 在项目的根目录下创建一个名为 .env 的文件（根据实际情况修改，也可以不创建）\n",
    "DB_HOST=db_host\n",
    "DB_PORT=3306\n",
    "DB_DATABASE=mydatabase\n",
    "DB_USER=myuser\n",
    "DB_PASSWORD=mypassword"
   ]
  },
  {
   "cell_type": "code",
   "execution_count": null,
   "id": "ae43c1a5-583f-44f1-a1e8-8b1bf778d066",
   "metadata": {},
   "outputs": [],
   "source": [
    "# 在 python 程序中配置 config.py，使用 os.environ.get 方法读取环境变量\n",
    "# 如果环境变量不存在，可以提供一个默认值\n",
    "import os\n",
    "\n",
    "# config.py\n",
    "VERSION = os.environ.get('VERSION', 'v1.0.0')\n",
    "DB_HOST = os.environ.get('DB_HOST', '127.0.0.1')\n",
    "DB_PORT = os.environ.get('DB_PORT', '3306')\n",
    "DB_DATABASE = os.environ.get('DB_DATABASE', 'test_db')\n",
    "DB_USER = os.environ.get('DB_USER', 'root')\n",
    "DB_PASSWORD = os.environ.get('DB_PASSWORD', '123456')"
   ]
  },
  {
   "cell_type": "code",
   "execution_count": null,
   "id": "5ad48a9a-3e1d-400d-a7e0-a4670694d1c3",
   "metadata": {},
   "outputs": [],
   "source": [
    "对于创建的 .env 文件，需要在python项目中进行加载处理\n",
    "# 使用 python-dotenv 库加载环境变量\n",
    "from flask import Flask, request, jsonify\n",
    "from dotenv import load_dotenv\n",
    "import os\n",
    "# 加载 .env 文件\n",
    "load_dotenv()\n",
    "\n",
    "app = Flask(__name__)\n",
    "\n",
    "@app.route('/')\n",
    "def hello():\n",
    "    return \"Hello, World!\"\n",
    "\n",
    "if __name__ == '__main__':\n",
    "    app.run(host='0.0.0.0', port=int(os.getenv('SERVER_PORT', 8028)))"
   ]
  },
  {
   "cell_type": "code",
   "execution_count": null,
   "id": "4a3b04f4-efa8-4778-8351-74cd2e370342",
   "metadata": {},
   "outputs": [],
   "source": [
    "step4 构建 docker 镜像\n",
    "# 使用 terminal 终端导航到 dockerfile 的目录，构建 DOCKER 镜像\n",
    "docker build -t my-rdbackend ."
   ]
  },
  {
   "cell_type": "code",
   "execution_count": null,
   "id": "215ce379-f3a1-44fa-8793-db036c0c563e",
   "metadata": {},
   "outputs": [],
   "source": [
    "-build 表示构建dockerfile\n",
    "-t 表示 tag，即镜像名\n",
    "- my-rdbackend 是镜像名\n",
    "-. 表示当前目录下的所有文件 "
   ]
  },
  {
   "cell_type": "code",
   "execution_count": null,
   "id": "2f6e2539-5e12-4857-8586-b5fb729f2242",
   "metadata": {},
   "outputs": [],
   "source": [
    "step5 运行docker容器\n",
    "\n",
    "docker run -d -p 5001:5000 --env-file .env my-rdbackend\n",
    "\n",
    "-p 5001:5000 参数映射了主机的 5001 端口到容器的 5000 端口\n",
    "–env-file .env 参数指定了一个环境变量文件，该文件包含了所有需要传递给容器的环境变量值。\n",
    "\n",
    "step6 查看容器有没有运行成功\n",
    "docker ps"
   ]
  },
  {
   "cell_type": "code",
   "execution_count": null,
   "id": "b7ea82d6-2953-4751-8dc6-a6612d5975af",
   "metadata": {},
   "outputs": [],
   "source": [
    "完整示例：python代码基于dockerfile做成镜像\n",
    "# 文件准备 \n",
    "# python3.7.tar文件\n",
    "docker load -i python3.7.tar # 导入python3.7镜像\n",
    "# main.py 文件\n",
    "from flask import Flask\n",
    "app = Flask(__name__)\n",
    "\n",
    "@app.route(\"/\")\n",
    "def hello():\n",
    "    return \"Hello from Python!\"\n",
    "\n",
    "if __name__ == \"__main__\":\n",
    "    app.run(host='0.0.0.0')\n",
    "# requirements.txt 文件\n",
    "Flask\n",
    "# 构建dockerfile文件\n",
    "FROM python:3.7\n",
    "RUN mkdir /app/\n",
    "WORKDIR /app/\n",
    "ADD . /app/\n",
    "RUN /usr/local/bin/python -m pip install --upgrade pip\n",
    "RUN pip install -r requirements.txt\n",
    "EXPOSE 5000\n",
    "CMD [\"python\",\"/app/main,py\"]\n",
    "\"\"\"\n",
    "    dockerfile同级目录需要的文件：\n",
    "    main.py\n",
    "    requirements.txt\n",
    "    python3.7.tar (此文件为 docker save -o ，压缩镜像生成，不可通过tar解压)\n",
    "\"\"\""
   ]
  },
  {
   "cell_type": "code",
   "execution_count": null,
   "id": "4fd4c315-b77c-46e9-a056-dce99ce8a58f",
   "metadata": {},
   "outputs": [],
   "source": [
    "#镜像保存\n",
    "docker save -o image_name.tar image name"
   ]
  }
 ],
 "metadata": {
  "kernelspec": {
   "display_name": "jupyter",
   "language": "python",
   "name": "jupyter"
  },
  "language_info": {
   "codemirror_mode": {
    "name": "ipython",
    "version": 3
   },
   "file_extension": ".py",
   "mimetype": "text/x-python",
   "name": "python",
   "nbconvert_exporter": "python",
   "pygments_lexer": "ipython3",
   "version": "3.9.21"
  }
 },
 "nbformat": 4,
 "nbformat_minor": 5
}
