{
 "cells": [
  {
   "cell_type": "code",
   "execution_count": null,
   "id": "4494eee0-9eda-431f-b509-d8144caa1cad",
   "metadata": {},
   "outputs": [],
   "source": [
    "镜像构建和加载过程中出现的问题与解决办法"
   ]
  },
  {
   "cell_type": "code",
   "execution_count": null,
   "id": "86b08cc1-1d77-40a2-9dfa-b9af80a54a34",
   "metadata": {},
   "outputs": [],
   "source": [
    "1. dockerfile 编写"
   ]
  },
  {
   "cell_type": "code",
   "execution_count": null,
   "id": "432a3799-fe2c-4a9d-920b-3195ac29b72d",
   "metadata": {},
   "outputs": [],
   "source": [
    "1.1 首先是基础环境\n",
    "    一开始使用了cuda版本的ubuntu20.04, 出现了无法链接到镜像网站的情况，后来使用了 nvcr.io 镜像网站上的系统，成功编译；\n",
    "    但是编译成功后，整个镜像达到了44G，而且有几个重要的结论：\n",
    "    （1）基础环境的选择\n",
    "    “如果目标对象已经安装了ubuntu和cuda，那么不需要构建系统层面的基础环境，可以直接使用python环境”\n",
    "    “python 环境依然使用了镜像网站”：\n",
    "    FROM m.daocloud.io/docker.io/library/python:3.8.19\n",
    "    （2）环境报错处理\n",
    "    基础环境报错基本上都是网络原因，针对使用的基础环境，搜索可靠的镜像网站即可。 "
   ]
  },
  {
   "cell_type": "code",
   "execution_count": null,
   "id": "e649c215-b74f-48e3-9e24-5c878c17a710",
   "metadata": {},
   "outputs": [],
   "source": [
    "1.1.1 基础环境选择的原则\n",
    "如果是针对目标宿主机进行镜像迁移，需要根据宿主机的状态选择基础镜像，避免镜像过大，启动和编译时间很长，基本逻辑如下：\n",
    "step1. 确认宿主机的基本状况\n",
    "    操作系统：确认宿主机的操作系统类型（如 Ubuntu 20.04）。\n",
    "    GPU 和 CUDA 配置：是否安装了 NVIDIA GPU 驱动？\n",
    "    CUDA toolkit 的版本（如 12.4）是否已安装？\n",
    "    是否安装了 cuDNN 等相关库？\n",
    "    可用资源：CPU、内存和显存的使用情况。\n",
    "    是否安装了 NVIDIA Container Toolkit（包括 nvidia-docker2）？"
   ]
  },
  {
   "cell_type": "code",
   "execution_count": null,
   "id": "3d23cb04-7e45-4a56-9351-5db5292ce6de",
   "metadata": {},
   "outputs": [],
   "source": [
    "step1.5 NVIDIA Container Toolkit 安装\n",
    "    一般情况下，ubuntu 系统安装后都会配置 CUDA 和 GPU 驱动，随之，cuDNN 等库也会安装。但是一般情况下 NVIDIA CONTAINER TOOLKIT 都不会安装。\n",
    "    （1）NVIDIA Container Toolkit（包括 nvidia-docker2）应当安装在宿主机上。\n",
    "        用来让 Docker 引擎识别和管理 NVIDIA GPU 资源的工具，从而能在容器中调用宿主机的GPU，因此必须安装在运行 Docker 的机器上。\n",
    "    （2）安装步骤（以 ubuntu 20.04 为例）\n",
    "        # 更新包列表并安装必要的依赖工具\n",
    "        sudo apt-get update && sudo apt-get install -y curl gnupg2 software-properties-common\n",
    "        # 添加 NVIDIA 官方仓库\n",
    "        distribution=$(. /etc/os-release;echo $ID$VERSION_ID)\n",
    "        curl -s -L https://nvidia.github.io/libnvidia-container/gpgkey | sudo apt-key add -\n",
    "        curl -s -L https://nvidia.github.io/libnvidia-container/$distribution/libnvidia-container.list | sudo tee /etc/apt/sources.list.d/nvidia-container-toolkit.list\n",
    "        # 更新软件源\n",
    "        sudo apt-get update\n",
    "        # 安装 NVIDIA Container Toolkit\n",
    "        sudo apt-get install -y nvidia-container-toolkit\n",
    "        # 重启docker服务\n",
    "        sudo systemctl restart docker\n",
    "        # 验证安装，如果有GPU信息输出，则安装成功\n",
    "        sudo docker run --rm --gpus all nvidia/cuda:11.0-base nvidia-smi\n",
    "    （3）常见问题\n",
    "        # 权限问题，如果遇到权限错误，将用户加入docker组\n",
    "        sudo usermod -aG docker $USER\n",
    "        newgrp docker\n",
    "        # 或者直接进入root\n",
    "        sudo su -\n",
    "        # 如果通过代理访问网络，需要在 Docker 中配置代理\n",
    "        sudo mkdir -p /etc/systemd/system/docker.service.d\n",
    "        sudo tee /etc/systemd/system/docker.service.d/http-proxy.conf <<EOF\n",
    "        [Service]\n",
    "        Environment=\"HTTP_PROXY=http://proxy.example.com:8080\"\n",
    "        Environment=\"HTTPS_PROXY=http://proxy.example.com:8080\"\n",
    "        EOF\n",
    "        sudo systemctl daemon-reload\n",
    "        sudo systemctl restart docker\n",
    "        # 其他操作系统\n",
    "        CENTOS/RHEL ： 步骤类似，需使用`yum`代替`apt-get`。\n",
    "        Windows:需通过Docker Desktop的NVIDIA GPU支持功能启用。"
   ]
  },
  {
   "cell_type": "code",
   "execution_count": null,
   "id": "e7a51537-530b-49c9-99e1-c83519128d3a",
   "metadata": {},
   "outputs": [],
   "source": [
    "step2. 基础环境的选择\n",
    "    # 直接使用python官方镜像\n",
    "    如果宿主机已经完成 CUDA GPU驱动 NVDIA Container Toolkit，可以直接使用 python 官方镜像来运行基于GPU的深度学习任务\n",
    "    FROM python:3.8 # 指令内容全部小写\n",
    "    # 如果需要更灵活的配置，比如额外安装依赖或系统工具，可以选择基于 ubuntu 的基础镜像\n",
    "    FROM ubuntu：20.04\n",
    "    如果宿主机已经安装了cuda，可以在容器内使用 nvidia-cuda-toolkit 等库，不需要在容器内安装cuda\n",
    "    # 使用预构建的深度学习镜像：\n",
    "    FROM nvidia/cuda:12.4-base-ubuntu20.04\n",
    "    预构建的镜像，需要安装python\n",
    "    RUN apt-get update && apt-get install -y python3.8 python3-pip\n",
    "    # 依赖管理：\n",
    "    在 Dockerfile 中避免冗余安装。如果宿主机已经提供了某些库（如 CUDA），不需要在容器中重新安装。\n",
    "    确保镜像中的软件版本与宿主机的环境兼容"
   ]
  },
  {
   "cell_type": "code",
   "execution_count": null,
   "id": "fd23dbf3-24eb-422e-b0d2-58c2b027a0d6",
   "metadata": {},
   "outputs": [],
   "source": [
    "step3. 下载基础镜像\n",
    "    基础镜像一般需要通过镜像网站下载，比如 m.daoicloud.io，nvcr.io 等，这个需要自己搜；\n",
    "    编译基础镜像时，会出现很多 SHA，不用管，这是正常的逐层构建，最后会生成一个。"
   ]
  },
  {
   "cell_type": "code",
   "execution_count": null,
   "id": "928cf9fa-8d6f-4a11-b34a-f115f9e75b45",
   "metadata": {},
   "outputs": [],
   "source": [
    "1.2 LABEL\n",
    "    MAINTAINER 指令已经不被最新版的 docker 支持，只能使用 LABEL；\n",
    "    LABEL 需要输入两个参数：\n",
    "    LABEL creater=\"Chengleng_Han\""
   ]
  },
  {
   "cell_type": "code",
   "execution_count": null,
   "id": "bb217d43-615a-4db1-b59f-3e66517d0cda",
   "metadata": {},
   "outputs": [],
   "source": [
    "1.3 替换软件源：\n",
    "    RUN echo \"deb https://mirrors.tuna.tsinghua.edu.cn/debian/ bookworm main contrib non-free\" > /etc/apt/sources.list && \\\n",
    "    echo \"deb https://mirrors.tuna.tsinghua.edu.cn/debian/ bookworm-updates main contrib non-free\" >> /etc/apt/sources.list && \\\n",
    "    echo \"deb https://mirrors.tuna.tsinghua.edu.cn/debian/ bookworm-backports main contrib non-free\" >> /etc/apt/sources.list && \\\n",
    "    echo \"deb https://mirrors.tuna.tsinghua.edu.cn/debian-security/ bookworm-security main contrib non-free\" >> /etc/apt/sources.list"
   ]
  },
  {
   "cell_type": "code",
   "execution_count": null,
   "id": "9e4ca787-ee27-4af0-860f-4148ee381340",
   "metadata": {},
   "outputs": [],
   "source": [
    "1.4 安装系统依赖项，并移除碎片\n",
    "    RUN apt-get update && apt-get install -y build-essential && rm -rf /var/lib/apt/lists/*\n",
    "    RUN apt-get clean"
   ]
  },
  {
   "cell_type": "code",
   "execution_count": null,
   "id": "fd0002f6-ccac-414c-985c-2f07acb0d01a",
   "metadata": {},
   "outputs": [],
   "source": [
    "1.5 WORKDIR\n",
    "    我将WORKDIR直接设置为容器的根目录，而且我发现，虽然我使用的时Python官方环境作为基础环境，但是依然能在容器中看到linux系统的影子；\n",
    "    WORKDIR /root"
   ]
  },
  {
   "cell_type": "code",
   "execution_count": null,
   "id": "5afec132-b241-406d-9109-318caf3a31e9",
   "metadata": {},
   "outputs": [],
   "source": [
    "1.6 拷贝代码\n",
    "    代码的拷贝要根据项目的要求来，我使用了 wheel_legged_gym 作为尝试，安装要求是：\n",
    "    （1）python 3.8\n",
    "    （2）安装 pytorch （我使用了12.1 版本的官方链接）\n",
    "    （3）安装 isaac gym，这个需要复制文件并 pip install -e . 安装\n",
    "    （4）安装 wheel_legged_gym，也是复制文件并 pip install -e . 安装"
   ]
  },
  {
   "cell_type": "code",
   "execution_count": null,
   "id": "a0d423c2-df9c-458a-a572-17df33701bd1",
   "metadata": {},
   "outputs": [],
   "source": [
    "1.6.1 文件准备\n",
    "    （1）在项目文件的根目录下 touch dockerfile，然后使用记事本编写（我不喜欢vim）\n",
    "    （2）生成 requirements.txt\n",
    "        （2.1）我使用了 pipreqs 生成 requirements.txt 文件\n",
    "        pip install pipreqs\n",
    "        # 在根目录下创建（随便一个位置，后面可以移动到根目录）\n",
    "        pipreqs ./\n",
    "        （2.2）因为我是调试成功后构建的，在我安装过程中，装了pytorch之后只安装了 dill,imaegio 并修正了 pandas 版本\n",
    "        所以，我在生成的 txt 文件中只保留了这三个，并利用 conda list 限制了三个库的具体版本\n",
    "1.6.2 拷贝文件\n",
    "    COPY . /root"
   ]
  },
  {
   "cell_type": "code",
   "execution_count": null,
   "id": "c4305e67-a3a1-4b9e-9a4e-1fcd1f9882d8",
   "metadata": {},
   "outputs": [],
   "source": [
    "1.7 RUN命令安装\n",
    "    这里我是根据调试时使用的指令顺序依次写的命令：安装pytorch,安装requirements.txt(对pytorch安装后的依赖库进行修正)，本地安装isaacgym，本地安装wheel\n",
    "    RUN pip install torch==2.4.0 torchvision==0.19.0 torchaudio==2.4.0 --index-url https://download.pytorch.org/whl/cu121\n",
    "    RUN pip install --no-cache-dir -r requirements.txt # --no-cache-dir 不保留缓存\n",
    "\n",
    "    RUN cd /root/isaacgym/python && pip install -e . \\\n",
    "     && cd /root && pip install -e ."
   ]
  },
  {
   "cell_type": "code",
   "execution_count": null,
   "id": "cc361ec3-5802-47f0-95b5-88fa9978f970",
   "metadata": {},
   "outputs": [],
   "source": [
    "1.8 EXPOSE 端口（后面好像没用到）\n",
    "    EXPOSE 22\n",
    "    EXPOSE 6006\n",
    "    EXPOSE 8888"
   ]
  },
  {
   "cell_type": "code",
   "execution_count": null,
   "id": "c272db71-37f2-4f4f-99e9-5437ea83335f",
   "metadata": {},
   "outputs": [],
   "source": [
    "1.9 CMD命令\n",
    "    我一开始想在启动容器后直接运行:\n",
    "    CMD [\"python\", \"wheel_legged_gym/scripts/train.py\",\"--task=wheel_legged_vmc_flat\"]\n",
    "    但是这样会存在一个隐患：一旦报错，会直接退出容器，导致无法进行 exec\n",
    "    推荐 CMD [\"/bin/bash\"]\n",
    "    进入容器后，执行空命令行，然后通过命令行指令，找到路径（进入的是root），在执行python程序，能保证不错。"
   ]
  },
  {
   "cell_type": "markdown",
   "id": "442b4761-3853-4505-ba31-5eb44660dedc",
   "metadata": {},
   "source": [
    "1.9.1 报错处理：如果报了段错误 Segmentation fault(core dumped)\n",
    "    (1) 首先启用无渲染\n",
    "        --headless，任何强化学习训练都需要 --headless\n",
    "    (2) 如果还报错，一般就是容器内的驱动出了问题：\n",
    "        在容器内运行nvcc --version时出现“command not found”错误。这说明容器内没有安装\n",
    "        CUDA工具包，或者CUDA的路径没有正确配置。\n",
    "        # 下面是在容器内操作\n",
    "# 在容器内安装与 PyTorch 匹配的 CUDA 版本（PyTorch 2.4.0+cu121 对应 CUDA 12.1）：\n",
    "    # 更新包管理器\n",
    "    apt-get update\n",
    "    # 安装依赖项\n",
    "    apt-get install -y wget build-essential\n",
    "    # 下载 CUDA 12.1 安装包\n",
    "    wget https://developer.download.nvidia.com/compute/cuda/12.1.0/local_installers/cuda_12.1.0_530.30.02_linux.run\n",
    "    # 安装 CUDA（选择默认选项）\n",
    "    sh cuda_12.1.0_530.30.02_linux.run --toolkit --silent --override\n",
    "    # 配置环境变量\n",
    "    echo 'export PATH=/usr/local/cuda-12.1/bin:$PATH' >> ~/.bashrc\n",
    "    echo 'export LD_LIBRARY_PATH=/usr/local/cuda-12.1/lib64:$LD_LIBRARY_PATH' >> ~/.bashrc\n",
    "    source ~/.bashrc\n",
    "    # 验证CUDA版本\n",
    "    nvcc --version\n",
    "    # 检查 CUDA 库路径\n",
    "    ls /usr/local/cuda-12.1/lib64/libcudart.so*\n",
    "    # 清除旧的编译缓存并重新触发扩展编译\n",
    "    rm -rf /root/.cache/torch_extensions/py38_cu121/gymtorch\n",
    "    python train.py --task=wheel_legged_vmc_flat"
   ]
  },
  {
   "cell_type": "code",
   "execution_count": null,
   "id": "0f142025-5dc7-4053-b370-2114cb6feb6d",
   "metadata": {},
   "outputs": [],
   "source": [
    "1.9.2 报错后容器内关键检查点\n",
    " **CUDA 与 PyTorch 版本匹配**  \n",
    "   确保容器内的 CUDA 版本与 PyTorch 的 `cu121` 后缀一致：\n",
    "   python -c \"import torch; print(torch.__version__)\"\n",
    " **环境变量配置**  \n",
    "   确认 `PATH` 和 `LD_LIBRARY_PATH` 包含 CUDA 路径：\n",
    "   echo $PATH\n",
    "   echo $LD_LIBRARY_PATH\n",
    " **GPU 驱动兼容性**  \n",
    "   宿主机 NVIDIA 驱动版本需兼容 CUDA 12.1（建议驱动版本 ≥ 525.60.13）：\n",
    "   nvidia-smi  # 在宿主机运行"
   ]
  },
  {
   "cell_type": "code",
   "execution_count": null,
   "id": "3466d2bd-bb05-430a-b9f6-baf13df5084e",
   "metadata": {},
   "outputs": [],
   "source": [
    "2. 镜像保存\n",
    "在build完成之后，docker save -o bipeda.tar bipeda 生成一个tar文件，注意：tar文件的名字一定要和镜像名字一致，我就少输入了一个l，找了半天原因。。。"
   ]
  },
  {
   "cell_type": "code",
   "execution_count": null,
   "id": "d0cdbe6d-5b75-4f24-8007-61ef1b4d65ae",
   "metadata": {},
   "outputs": [],
   "source": [
    "3. 加载镜像\n",
    "（1）传输镜像文件(tar)，复制到目标电脑\n",
    "（2）加载镜像(镜像名称和标签会保留原始信息，可以通过docker images查看)：\n",
    "    # 在目标电脑上执行\n",
    "    docker load -i bipeda.tar\n",
    "    # 或\n",
    "    docker load < bipeda.tar"
   ]
  },
  {
   "cell_type": "code",
   "execution_count": null,
   "id": "eeedbbe0-5b5a-4217-9098-84c5c5a3dbaf",
   "metadata": {},
   "outputs": [],
   "source": [
    "4. 运行镜像\n",
    "（1）启动容器\n",
    "docker run -itd --name container_name <镜像名>:<标签>\n",
    "# -d：后台运行，-i：交互式运行，-t:创建一个tty伪终端，-p：宿主机端口：容器端口，-v:宿主机目录：容器目录\n",
    "（2）验证容器运行\n",
    "docker ps # 查看运行中的容器"
   ]
  },
  {
   "cell_type": "code",
   "execution_count": null,
   "id": "3208dca6-fa42-44f1-881e-acc94f8f6639",
   "metadata": {},
   "outputs": [],
   "source": [
    "5. 进入容器操作\n",
    "（1）进入容器终端\n",
    "docker exec -it my_container /bin/bash\n",
    "# 使用 exit 退出容器终端（容器不会停止运行）\n",
    "（2）容器内操作技巧\n",
    "安装软件：apt-get update && apt-get install vim\n",
    "修改配置文件：vim /path/to/config\n",
    "其他操作与普通Linux环境一致"
   ]
  },
  {
   "cell_type": "code",
   "execution_count": null,
   "id": "9ca57306-07a2-4f2f-823e-1f38388f1788",
   "metadata": {},
   "outputs": [],
   "source": [
    "6. 镜像内容更新\n",
    "方法1：通过容器提交新镜像\n",
    "（1）停止容器（可选）\n",
    "docker stop my_container\n",
    "（2）提交修改\n",
    "docker commit -a \"作者名\" -m \"修改描述\" my_container 新镜像名：新标签\n",
    "# docker commit -a \"Chengleng_han\" -m \"Added vim\" my_container myapp:v2\n",
    " (3) 验证新镜像\n",
    "docker images # 查看新生成的镜像"
   ]
  },
  {
   "cell_type": "code",
   "execution_count": null,
   "id": "f54cf5ca-22b3-47e9-9ead-cb3c7071630d",
   "metadata": {},
   "outputs": [],
   "source": [
    "方法2：通过 Dockerfile 重建镜像（推荐）\n",
    "（1）保存容器修改记录-在容器内操作后，将修改步骤写入Dockerfile:\n",
    "FROM 原镜像名：标签\n",
    "RUN apt-get update && apt-get install -y vim\n",
    "（2）构建新镜像\n",
    "docker build -t 新镜像名：新标签 ."
   ]
  },
  {
   "cell_type": "code",
   "execution_count": null,
   "id": "eaf8d0b0-cf89-452e-824c-7b2cb75b2c3c",
   "metadata": {},
   "outputs": [],
   "source": [
    "7. 其他常用命令与注意事项：\n",
    "（1）删除旧镜像\n",
    "docker rmi <镜像ID>\n",
    "（2）导出更新后的镜像\n",
    "docker save 新镜像名：标签 > updated_image.tar\n",
    "（3）镜像与容器关系\n",
    "直接修改容器不会影响原始镜像，必须通过 docker commit 或重建镜像持久化变更。\n",
    "（4）数据持久化\n",
    "重要数据建议通过 -v 挂载卷，避免容器删除后丢失。\n",
    "（5）生产环境建议\n",
    "优先使用 Dockerfile 构建镜像，而非手动 commit，确保可重复性和版本控制。"
   ]
  }
 ],
 "metadata": {
  "kernelspec": {
   "display_name": "jupyter",
   "language": "python",
   "name": "jupyter"
  },
  "language_info": {
   "codemirror_mode": {
    "name": "ipython",
    "version": 3
   },
   "file_extension": ".py",
   "mimetype": "text/x-python",
   "name": "python",
   "nbconvert_exporter": "python",
   "pygments_lexer": "ipython3",
   "version": "3.9.21"
  }
 },
 "nbformat": 4,
 "nbformat_minor": 5
}
