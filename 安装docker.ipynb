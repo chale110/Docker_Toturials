{
 "cells": [
  {
   "cell_type": "code",
   "execution_count": null,
   "id": "9e0687b2-aaf5-49b6-b715-112c4ff56c3f",
   "metadata": {},
   "outputs": [],
   "source": [
    "卸载旧版本\n",
    "for pkg in docker.io docker-doc docker-compose docker-compose-v2 podman-docker containerd runc; do sudo apt-get remove $pkg; done "
   ]
  },
  {
   "cell_type": "code",
   "execution_count": null,
   "id": "50cfeeb0-ad2c-49df-b38b-7bbefd0f6ea9",
   "metadata": {},
   "outputs": [],
   "source": [
    "添加建立docker apt 仓库"
   ]
  },
  {
   "cell_type": "code",
   "execution_count": null,
   "id": "3cc96ccc-d352-46eb-be47-5cbe2034f146",
   "metadata": {},
   "outputs": [],
   "source": [
    "# 逐步添加官方的 CPG KEY\n",
    "sudo apt-get update"
   ]
  },
  {
   "cell_type": "code",
   "execution_count": null,
   "id": "3fc24caa-45b3-4194-ab8f-109021e27f50",
   "metadata": {},
   "outputs": [],
   "source": [
    "sudo apt-get install ca-certificates curl "
   ]
  },
  {
   "cell_type": "code",
   "execution_count": null,
   "id": "6d601863-6d09-431f-bdda-f422e3939c15",
   "metadata": {},
   "outputs": [],
   "source": [
    "sudo install -m 0755 -d /etc/apt/keyrings "
   ]
  },
  {
   "cell_type": "code",
   "execution_count": null,
   "id": "aafa588a-63bc-46e8-b158-5cab5c0aabc4",
   "metadata": {},
   "outputs": [],
   "source": [
    "sudo curl -fsSL https://download.docker.com/linux/ubuntu/gpg -o /etc/apt/keyrings/docker.asc "
   ]
  },
  {
   "cell_type": "code",
   "execution_count": null,
   "id": "ab98f866-3391-4d1f-9f5f-0df4f3005fb6",
   "metadata": {},
   "outputs": [],
   "source": [
    "sudo chmod a+r /etc/apt/keyrings/docker.asc "
   ]
  },
  {
   "cell_type": "code",
   "execution_count": null,
   "id": "fcfd1968-ba42-4338-b675-24fc0816882a",
   "metadata": {},
   "outputs": [],
   "source": [
    "echo \\\n",
    "    \"deb [arch=$(dpkg --print-architecture) signed-by=/etc/apt/keyrings/docker.asc] https://download.docker.com/linux/ubuntu \\\n",
    "    $(. /etc/os-release && echo \"${UBUNTU_CODENAME:-$VERSION_CODENAME}\") stable\" | \\\n",
    "    sudo tee /etc/apt/sources.list.d/docker.list > /dev/null"
   ]
  },
  {
   "cell_type": "code",
   "execution_count": null,
   "id": "3dbd3d42-dfe5-4201-8255-2d5516158d6b",
   "metadata": {},
   "outputs": [],
   "source": [
    "sudo apt-get update"
   ]
  },
  {
   "cell_type": "code",
   "execution_count": null,
   "id": "a6fc8554-d398-437c-aa28-4590b47a5d82",
   "metadata": {},
   "outputs": [],
   "source": [
    "安装 docker packages:\n",
    "sudo apt-get install docker-ce docker-ce-cli containerd.io docker-buildx-plugin docker-compose-plugin "
   ]
  },
  {
   "cell_type": "code",
   "execution_count": null,
   "id": "acac01af-54a1-453e-a7bb-d87918b2e539",
   "metadata": {},
   "outputs": [],
   "source": [
    "设置docker和docker服务器的官方开机启动"
   ]
  },
  {
   "cell_type": "code",
   "execution_count": null,
   "id": "98735f96-176b-4031-ba54-4272ea2c8e20",
   "metadata": {},
   "outputs": [],
   "source": [
    "sudo systemctl enbale docker\n",
    "sudo systemctl start docker.service"
   ]
  },
  {
   "cell_type": "code",
   "execution_count": null,
   "id": "d32beb08-f76e-43c8-9ea8-fb9a674eaf9c",
   "metadata": {},
   "outputs": [],
   "source": [
    "配置镜像加速"
   ]
  },
  {
   "cell_type": "code",
   "execution_count": null,
   "id": "fb3e3f0b-3b69-4d88-8f19-93fa3f4be98c",
   "metadata": {},
   "outputs": [],
   "source": [
    "切换到 root\n",
    "sudo su -"
   ]
  },
  {
   "cell_type": "code",
   "execution_count": null,
   "id": "f7289538-3a36-4252-b7c9-7ad7e857c673",
   "metadata": {},
   "outputs": [],
   "source": [
    "创建docker配置文件，后续可以通过 vim 对这个 json 文件进行修改，更换镜像网站"
   ]
  },
  {
   "cell_type": "code",
   "execution_count": null,
   "id": "1add01db-5a34-415b-b981-e9438f370919",
   "metadata": {},
   "outputs": [],
   "source": [
    "cat > /etc/docker/daemon.json <<-EOF\n",
    "{\n",
    "    \"registry-mirrors\":[\n",
    "        \"https://docker.mirror.ustc.edu.cn\",\n",
    "        \"https://registry.docker-cn.com\"\n",
    "    ],\n",
    "    \"exec-opts\":[\"native.cgroupdriver=systemd\"],\n",
    "    \"log-driver\": \"json-file\",\n",
    "    \"log-opts\": {\n",
    "        \"max-size\": \"100m\"\n",
    "    },\n",
    "    \"storage-driver\": \"overlay2\"\n",
    "}\n",
    "EOF"
   ]
  },
  {
   "cell_type": "code",
   "execution_count": null,
   "id": "8da9cf40-e943-435f-b852-07f6c16369be",
   "metadata": {},
   "outputs": [],
   "source": [
    "还有可选择的其他镜像网站，可以根据需要添加"
   ]
  },
  {
   "cell_type": "code",
   "execution_count": null,
   "id": "6a0b978e-a7d6-4567-a97b-111ce38c5744",
   "metadata": {},
   "outputs": [],
   "source": [
    "{\n",
    "  \"registry-mirrors\": [\n",
    "    \"https://docker.1panelproxy.com\",\n",
    "    \"https://2m11665s.mirror.aliyuncs.com\",\n",
    "    \"https://registry.docker-cn.com\",\n",
    "    \"https://dockerhub.azk8s.cn\",\n",
    "    \"https://docker.mirrors.ustc.edu.cn\",\n",
    "    \"http://hub-mirror.c.163.com\",\n",
    "    \"https://k8s.gcr.io\",\n",
    "    \"https://github-releases.githubusercontent.com\",\n",
    "    \"https://ustc-edu-cn.mirror.aliyuncs.com\"\n",
    "  ],\n",
    "  \"insecure-registries\": [\n",
    "    \"registry.me:5000\",\n",
    "    \"http://docker.mirrors.ustc.edu.cn\",\n",
    "    \"https://k8s.gcr.io\",\n",
    "    \"https://github-releases.githubusercontent.com\",\n",
    "    \"https://registry-1.docker.io\",\n",
    "    \"decs.com\"\n",
    "  ],\n",
    "  \"exec-opts\": [\n",
    "    \"native.cgroupdriver=systemd\"\n",
    "  ]\n",
    "}"
   ]
  },
  {
   "cell_type": "code",
   "execution_count": null,
   "id": "da32b72e-bc2d-43e0-aadb-ce9a6b2645b8",
   "metadata": {},
   "outputs": [],
   "source": [
    "退出 root\n",
    "exit"
   ]
  },
  {
   "cell_type": "code",
   "execution_count": null,
   "id": "f260adb2-0d28-4af8-bfe2-eb9d63c2341e",
   "metadata": {},
   "outputs": [],
   "source": [
    "重启 docker\n",
    "sudo systemctl daemon-reload\n",
    "sudo systemctl restart docker"
   ]
  },
  {
   "cell_type": "code",
   "execution_count": null,
   "id": "b6e8f9d9-c605-406d-b221-410afaac5514",
   "metadata": {},
   "outputs": [],
   "source": [
    "测试\n",
    "docker run hello-world\n",
    "docker pull nginx"
   ]
  }
 ],
 "metadata": {
  "kernelspec": {
   "display_name": "jupyter",
   "language": "python",
   "name": "jupyter"
  },
  "language_info": {
   "codemirror_mode": {
    "name": "ipython",
    "version": 3
   },
   "file_extension": ".py",
   "mimetype": "text/x-python",
   "name": "python",
   "nbconvert_exporter": "python",
   "pygments_lexer": "ipython3",
   "version": "3.9.21"
  }
 },
 "nbformat": 4,
 "nbformat_minor": 5
}
