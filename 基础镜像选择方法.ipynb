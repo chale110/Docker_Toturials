{
 "cells": [
  {
   "cell_type": "code",
   "execution_count": null,
   "id": "680bae6e-81c1-4d1d-b0d3-2b0159d8b6b5",
   "metadata": {},
   "outputs": [],
   "source": [
    "一、寻找基础镜像"
   ]
  },
  {
   "cell_type": "code",
   "execution_count": null,
   "id": "da7dfeed-a3cd-486a-b8e7-7e980a69cd7d",
   "metadata": {},
   "outputs": [],
   "source": [
    "1.找到基础镜像\n",
    "（1）官方镜像仓库\n",
    "    Docker Hub（默认仓库）：访问 https://hub.docker.com 直接搜索，例如：\n",
    "        ubuntu：官方操作系统镜像\n",
    "        python：Python 官方运行时\n",
    "        nginx：Nginx 服务器镜像\n",
    "（2）命令行搜索\n",
    "    docker search ubuntu\n",
    "    - 结果字段说明：OFFISICAL-标记是否为官方维护镜像（推荐优先选择）；STARS-镜像受欢迎程度\n",
    "（3）根据已知镜像，谷歌搜索镜像网址"
   ]
  },
  {
   "cell_type": "code",
   "execution_count": null,
   "id": "f57dd656-f212-4f4f-b16c-7297ef864813",
   "metadata": {},
   "outputs": [],
   "source": [
    "2. 镜像选择标准\n",
    "类型                   示例                    适用场景\n",
    "操作系统镜像         ubuntu:20.04          需要完全控制环境时使用\n",
    "语言运行时镜像       python:3.9-slim       直接运行 Python 应用\n",
    "最小化镜像            alpine:3.14           追求极小的镜像体积\n",
    "专用服务镜像            mysql:8.0            直接部署数据库服务"
   ]
  },
  {
   "cell_type": "code",
   "execution_count": null,
   "id": "ce9a60e0-a213-47b2-8df9-e38b591d237c",
   "metadata": {},
   "outputs": [],
   "source": [
    "3. 镜像版本管理\n",
    "始终指定具体版本标签，避免使用 latest\n",
    "FROM ubuntu:20.04  # ✅ 明确版本\n",
    "# FROM ubuntu       # ❌ 可能随 latest 变化导致构建不稳定"
   ]
  },
  {
   "cell_type": "code",
   "execution_count": null,
   "id": "071bc86b-67e5-4613-a2a8-294450b84b21",
   "metadata": {},
   "outputs": [],
   "source": [
    "4. 企业私有仓库\n",
    "如果有内部镜像仓库（如 Harbor、Nexus），通过地址直接引用：\n",
    "FROM registry.your-company.com/base/python:3.8"
   ]
  },
  {
   "cell_type": "code",
   "execution_count": null,
   "id": "d5139506-f7c1-4c8f-9911-ef59786998f1",
   "metadata": {},
   "outputs": [],
   "source": [
    "二、Dockerfile 位置问题\n",
    "Dockerfile 的位置 完全独立于基础镜像，只需在构建时通过 docker build 指定正确的上下文路径。\n",
    "即：不需要将基础镜像放到项目文件根目录，爱在哪在哪，只要docker images 能搜索到即可。\n",
    "# 推荐项目结构\n",
    "my-project/\n",
    "├── Dockerfile       # 核心构建文件\n",
    "├── .dockerignore    # 忽略不需要的文件\n",
    "├── src/             # 应用程序代码\n",
    "└── requirements.txt # 依赖清单\n",
    "# 构建操作示例\n",
    "# 在项目根目录执行（Dockerfile 所在位置）\n",
    "docker build -t myapp:v1 .\n",
    "--末尾的 . 表示将当前目录作为构建上下文，Docker 引擎会打包上下文中的所有文件（受 .dockerignore 约束）"
   ]
  },
  {
   "cell_type": "code",
   "execution_count": null,
   "id": "290829de-00ed-462f-9b7a-ef0b79d1319d",
   "metadata": {},
   "outputs": [],
   "source": [
    "三、最佳实践建议"
   ]
  },
  {
   "cell_type": "code",
   "execution_count": null,
   "id": "f153846e-23c4-43b9-bc51-fc7c452a3879",
   "metadata": {},
   "outputs": [],
   "source": [
    "1. 基础镜像选择原则\n",
    "最小化：优先选择 -slim 或 -alpine 版本\n",
    "    FROM python:3.9-slim  # 体积仅 120MB 左右\n",
    "安全性：定期更新基础镜像版本以获取安全补丁"
   ]
  },
  {
   "cell_type": "code",
   "execution_count": null,
   "id": "6c6d47c5-a828-4c6c-ade4-6f3904e330d3",
   "metadata": {},
   "outputs": [],
   "source": [
    "2. 多阶段构建\n",
    "适用于需要编译的场景，最终镜像仅保留运行时必要文件：\n",
    "# 构建阶段\n",
    "FROM golang:1.18 AS builder\n",
    "WORKDIR /app\n",
    "COPY . .\n",
    "RUN go build -o myapp\n",
    "\n",
    "# 运行阶段\n",
    "FROM alpine:3.14\n",
    "COPY --from=builder /app/myapp /usr/local/bin/\n",
    "CMD [\"myapp\"]"
   ]
  },
  {
   "cell_type": "code",
   "execution_count": null,
   "id": "f3a1b10d-7d11-414a-9751-59c3dbab102f",
   "metadata": {},
   "outputs": [],
   "source": [
    "3. 镜像层级优化\n",
    "合并同类操作：\n",
    "# ✅ 合并 RUN 指令减少层数\n",
    "RUN apt-get update && \\\n",
    "    apt-get install -y git curl && \\\n",
    "    apt-get clean\n",
    "\n",
    "# ❌ 避免多个独立 RUN\n",
    "RUN apt-get update\n",
    "RUN apt-get install -y git"
   ]
  },
  {
   "cell_type": "code",
   "execution_count": null,
   "id": "ce71662d-631c-42cf-a066-2e3226783ddb",
   "metadata": {},
   "outputs": [],
   "source": [
    "4. 完整操作\n",
    "# 创建项目目录\n",
    "mkdir python-app && cd python-app\n",
    "# 使用官方镜像\n",
    "FROM ubuntu:20.04\n",
    "# 设置环境\n",
    "ENV DEBIAN_FRONTEND=noninteractive # 参见 4.1\n",
    "RUN apt-get update && \\\n",
    "    apt-get install -y python3-pip && \\\n",
    "    apt-get clean\n",
    "# 复制代码\n",
    "WORKDIR /app\n",
    "COPY . .\n",
    "# 安装依赖\n",
    "RUN pip3 install -r requirements.txt\n",
    "# 启动命令\n",
    "CMD [\"python3\", \"app.py\"]\n",
    "# 构建镜像\n",
    "docker build -t my-python-app:v1 ."
   ]
  },
  {
   "cell_type": "code",
   "execution_count": null,
   "id": "c95790f5-e6aa-4276-89e2-514960cd2999",
   "metadata": {},
   "outputs": [],
   "source": [
    "4.1 环境设置 DEBIAN_FRONTEND=noninteractive\n",
    "这个环境变量设置用于控制 Debian/Ubuntu 系统包管理器的交互行为。\n",
    "（1）作用原理\n",
    "ENV DEBIAN_FRONTEND=noninteractive 是专门针对 Debian/Ubuntu 系 Linux 发行版的特殊设置，它改变了 apt-get 等包管理工具的工作方式：\n",
    "默认行为：在未设置该变量时，当安装某些需要用户交互的软件包（如时区选择、许可证确认等）时，安装过程会暂停并等待用户输入。\n",
    "设置后的行为，通过设置为 noninteractive：自动选择默认配置；跳过所有交互式提问；对于需要输入的情况，会自动使用默认值继续安装\n",
    "（2）在 Docker 中的必要性\n",
    "构建不可中断性-Docker 镜像构建过程必须是完全自动化的，无法进行人工交互\n",
    "环境一致性-避免因交互选择不同导致镜像差异\n",
    "构建速度-跳过等待输入环节可以加快构建过程\n",
    "（3）注意事项\n",
    "**作用范围：该设置仅对当前构建阶段有效，不会影响最终镜像的运行环境\n",
    "**多阶段构建：如果使用多阶段构建，每个 FROM 阶段都需要重新设置\n",
    "**替代方案-对于特定命令可以使用参数临时设置：\n",
    "  RUN DEBIAN_FRONTEND=noninteractive apt-get install -y some-package\n",
    "**副作用：某些软件包可能需要额外的自动应答配置（如使用 debconf-set-selections）"
   ]
  },
  {
   "cell_type": "code",
   "execution_count": null,
   "id": "47f244a6-456a-4b39-8bd8-5337ffdd17d4",
   "metadata": {},
   "outputs": [],
   "source": [
    "4.2 基础环境最佳实践\n",
    "FROM ubuntu:20.04\n",
    "\n",
    "# 设置非交互模式\n",
    "ENV DEBIAN_FRONTEND=noninteractive\n",
    "\n",
    "# 安装带有时区配置的软件包\n",
    "RUN apt-get update && \\\n",
    "    apt-get install -y \\\n",
    "    tzdata \\\n",
    "    && \\\n",
    "    ln -fs /usr/share/zoneinfo/Asia/Shanghai /etc/localtime && \\\n",
    "    dpkg-reconfigure --frontend noninteractive tzdata && \\\n",
    "    apt-get clean"
   ]
  }
 ],
 "metadata": {
  "kernelspec": {
   "display_name": "jupyter",
   "language": "python",
   "name": "jupyter"
  },
  "language_info": {
   "codemirror_mode": {
    "name": "ipython",
    "version": 3
   },
   "file_extension": ".py",
   "mimetype": "text/x-python",
   "name": "python",
   "nbconvert_exporter": "python",
   "pygments_lexer": "ipython3",
   "version": "3.9.21"
  }
 },
 "nbformat": 4,
 "nbformat_minor": 5
}
