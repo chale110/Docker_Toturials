{
 "cells": [
  {
   "cell_type": "code",
   "execution_count": null,
   "id": "9bad629f-ef4f-449e-8f40-5f98e3527425",
   "metadata": {},
   "outputs": [],
   "source": [
    "Docker资源清理以及Ubuntu系统清理\n",
    "# 操作风险由低到高"
   ]
  },
  {
   "cell_type": "code",
   "execution_count": null,
   "id": "40a9a9cd-a872-49dd-8d06-31bac260e74f",
   "metadata": {},
   "outputs": [],
   "source": [
    "一、Docker 专项清理"
   ]
  },
  {
   "cell_type": "code",
   "execution_count": null,
   "id": "6bc40233-3e4a-441f-9c38-4cc93657ad78",
   "metadata": {},
   "outputs": [],
   "source": [
    "1. 基础清理\n",
    "# 删除所有已停止的容器\n",
    "docker container prune\n",
    "\n",
    "# 删除所有未被使用的镜像（悬空镜像）\n",
    "docker image prune\n",
    "\n",
    "# 删除未被使用的网络\n",
    "docker network prune\n",
    "\n",
    "# 删除所有未被使用的卷（重要数据可能存储在卷中，谨慎操作）\n",
    "docker volume prune\n",
    "\n",
    "# 综合清理（包含以上所有未使用对象）\n",
    "docker system prune"
   ]
  },
  {
   "cell_type": "code",
   "execution_count": null,
   "id": "3a7a1901-bc1c-465e-97b4-7974243aa119",
   "metadata": {},
   "outputs": [],
   "source": [
    "2. 深度清理\n",
    "# 强制删除所有未被容器使用的镜像（包括被使用的镜像的旧版本）\n",
    "docker image prune -a\n",
    "\n",
    "# 清理构建缓存（适用于使用 BuildKit 的情况）\n",
    "docker builder prune\n",
    "\n",
    "# 删除超过 24 小时的容器\n",
    "docker container prune --filter \"until=24h\"\n",
    "\n",
    "# 删除所有未被任何容器引用的卷（二次确认无重要数据）\n",
    "docker volume prune --force"
   ]
  },
  {
   "cell_type": "code",
   "execution_count": null,
   "id": "1667afde-c5c1-4305-901c-fabfd0aa85ee",
   "metadata": {},
   "outputs": [],
   "source": [
    "3. 针对性清理\n",
    "# 查看 Docker 磁盘占用\n",
    "docker system df\n",
    "\n",
    "# 按占用空间排序镜像\n",
    "docker images --format \"{{.ID}}\\t{{.Size}}\\t{{.Repository}}\" | sort -k 2 -h\n",
    "\n",
    "# 删除指定镜像\n",
    "docker rmi <镜像ID>\n",
    "\n",
    "# 清理某容器相关资源\n",
    "docker rm -v <容器ID>  # -v 同时删除关联卷"
   ]
  },
  {
   "cell_type": "code",
   "execution_count": null,
   "id": "9947fbfa-8cc7-4c2a-a41d-095615feb8f5",
   "metadata": {},
   "outputs": [],
   "source": [
    "二、Docker构建缓存清理"
   ]
  },
  {
   "cell_type": "code",
   "execution_count": null,
   "id": "78d85864-187c-44fc-88b9-2bd38e701f90",
   "metadata": {},
   "outputs": [],
   "source": [
    "1. 构建缓存机制\n",
    "Docker 的构建缓存分为两种类型：\n",
    "（1）传统构建器缓存：存储在 /var/lib/docker/overlay2 中的分层文件系统\n",
    "（2）BuildKit 缓存：更先进的构建系统，支持缓存导出和复用"
   ]
  },
  {
   "cell_type": "code",
   "execution_count": null,
   "id": "92f55cdf-7776-461a-b382-cfad461f8495",
   "metadata": {},
   "outputs": [],
   "source": [
    "2. 清理构建缓存\n",
    "（1）查看缓存占用\n",
    "# 查看 Docker 总体磁盘使用\n",
    "docker system df\n",
    "# 查看详细构建缓存（仅 BuildKit）\n",
    "docker buildx du --verbose\n",
    "（2）基础清理命令\n",
    "# 清理所有未使用的构建缓存（包括传统和 BuildKit）\n",
    "docker builder prune # 这个指令基本就够了\n",
    "# 强制清理所有构建缓存（包括正在使用的）\n",
    "docker builder prune --all --force\n",
    "（3）针对传统构建器的清理\n",
    "# 删除所有悬空构建缓存\n",
    "docker system prune --filter \"type=build-cache\"\n",
    "# 删除超过 24 小时的构建缓存\n",
    "docker system prune --filter \"until=24h\"\n",
    "（4）BuildKit 专用清理\n",
    "# 清理无效的 BuildKit 缓存\n",
    "docker buildx prune\n",
    "# 清理所有 BuildKit 缓存（包括正在使用）\n",
    "docker buildx prune --all\n",
    "（5）单次构建缓存控制\n",
    "# 禁用缓存构建\n",
    "docker build --no-cache -t my-image .\n",
    "# 指定缓存来源\n",
    "docker build --cache-from=my-cache-image -t new-image ."
   ]
  },
  {
   "cell_type": "raw",
   "id": "30437bae-b9d2-40b8-9262-e7f3a9275eae",
   "metadata": {},
   "source": [
    "三、Ubuntu系统清理"
   ]
  },
  {
   "cell_type": "code",
   "execution_count": null,
   "id": "43ee4ef7-c9e0-47e4-b1ec-d7eb550fa3d1",
   "metadata": {},
   "outputs": [],
   "source": [
    "1. 基础清理\n",
    "# 清理 apt 缓存\n",
    "sudo apt clean\n",
    "\n",
    "# 删除已卸载软件的残留配置\n",
    "sudo apt autoclean\n",
    "\n",
    "# 自动移除不再需要的依赖\n",
    "sudo apt autoremove\n",
    "\n",
    "# 删除旧内核（保留1-2个最新版本）\n",
    "sudo apt purge $(dpkg -l | awk '/^ii linux-image-*/{print $2}' | grep -v $(uname -r))"
   ]
  },
  {
   "cell_type": "code",
   "execution_count": null,
   "id": "946e1708-eb26-44cd-800e-c9ccc365f4c0",
   "metadata": {},
   "outputs": [],
   "source": [
    "2. 日志清理\n",
    "# 清空所有日志（谨慎操作）\n",
    "sudo journalctl --vacuum-time=7d  # 保留7天日志\n",
    "sudo find /var/log -type f -name \"*.log\" -exec truncate -s 0 {} \\;\n",
    "\n",
    "# 删除系统崩溃报告\n",
    "sudo rm /var/crash/*\n",
    "\n",
    "# 清理用户日志\n",
    "rm ~/.cache/debug.log"
   ]
  },
  {
   "cell_type": "code",
   "execution_count": null,
   "id": "e7a02d44-9d44-45b7-894b-e3e5993f0efb",
   "metadata": {},
   "outputs": [],
   "source": [
    "3. 深度清理\n",
    "# 查找大文件（>100MB）\n",
    "sudo find / -type f -size +100M -exec ls -lh {} \\; | awk '{ print $9 \": \" $5 }'\n",
    "\n",
    "# 清理缩略图缓存\n",
    "rm -r ~/.cache/thumbnails/*\n",
    "\n",
    "# 清理临时文件\n",
    "sudo rm -rf /tmp/*\n",
    "sudo rm -rf /var/tmp/*\n",
    "\n",
    "# 清理旧快照（如果使用 snapper）\n",
    "sudo snapper list | grep timeline | awk '{print $1}' | xargs -n1 sudo snapper delete"
   ]
  },
  {
   "cell_type": "code",
   "execution_count": null,
   "id": "c3fae3a9-2a78-4277-8c07-180bab0cfdfd",
   "metadata": {},
   "outputs": [],
   "source": [
    "四、清理后维护建议"
   ]
  },
  {
   "cell_type": "code",
   "execution_count": null,
   "id": "4f333026-519c-41aa-9f1b-9e951aef20b4",
   "metadata": {},
   "outputs": [],
   "source": [
    "1. 定期维护\n",
    "# 设置每周自动清理\n",
    "echo \"docker system prune -af && apt autoremove -y\" | sudo tee /etc/cron.weekly/cleanup\n",
    "2. 空间监控\n",
    "# 安装监控工具\n",
    "sudo apt install htop\n",
    "3. 存储优化\n",
    "# 迁移 Docker 存储位置（如果 /var/lib/docker 所在分区空间不足）\n",
    "sudo systemctl stop docker\n",
    "sudo rsync -av /var/lib/docker /new-path/\n",
    "sudo mv /var/lib/docker /var/lib/docker.bak\n",
    "sudo ln -s /new-path/docker /var/lib/docker\n",
    "sudo systemctl start docker"
   ]
  },
  {
   "cell_type": "code",
   "execution_count": null,
   "id": "ecd343f1-502a-4766-86d2-2c16b33a1b84",
   "metadata": {},
   "outputs": [],
   "source": [
    "五、注意事项"
   ]
  },
  {
   "cell_type": "code",
   "execution_count": null,
   "id": "00b18db2-b589-4802-8206-941aa744a714",
   "metadata": {},
   "outputs": [],
   "source": [
    "1.危险操作禁区\n",
    "不要删除 /lib, /usr, /bin 等系统目录\n",
    "谨慎操作 rm -rf / 类命令（建议使用 trash-cli 替代 rm）\n",
    "2.数据备份\n",
    "# 重要数据备份示例\n",
    "tar -czvf backup_$(date +%Y%m%d).tar.gz /path/to/important_data"
   ]
  },
  {
   "cell_type": "code",
   "execution_count": null,
   "id": "7855555e-157e-4d76-8709-52ba6f4b3260",
   "metadata": {},
   "outputs": [],
   "source": [
    "建议按顺序执行，每完成一个步骤后使用 df -h 查看空间变化。\n",
    "如果空间仍未释放，可能需要检查是否有被进程占用的已删除文件（使用 lsof | grep deleted 查找）。"
   ]
  }
 ],
 "metadata": {
  "kernelspec": {
   "display_name": "jupyter",
   "language": "python",
   "name": "jupyter"
  },
  "language_info": {
   "codemirror_mode": {
    "name": "ipython",
    "version": 3
   },
   "file_extension": ".py",
   "mimetype": "text/x-python",
   "name": "python",
   "nbconvert_exporter": "python",
   "pygments_lexer": "ipython3",
   "version": "3.9.21"
  }
 },
 "nbformat": 4,
 "nbformat_minor": 5
}
